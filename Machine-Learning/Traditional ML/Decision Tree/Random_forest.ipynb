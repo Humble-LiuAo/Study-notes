{
  "nbformat": 4,
  "nbformat_minor": 0,
  "metadata": {
    "colab": {
      "name": "Random forest.ipynb",
      "provenance": [],
      "collapsed_sections": [],
      "mount_file_id": "1zyTOi0QEaCsTGRk-6J8EiyhER2FErgoA",
      "authorship_tag": "ABX9TyPfI1iDd94Pv6CldD641+F/"
    },
    "kernelspec": {
      "name": "python3",
      "display_name": "Python 3"
    },
    "language_info": {
      "name": "python"
    }
  },
  "cells": [
    {
      "cell_type": "code",
      "source": [
        "import os\n",
        "workplace = 'ML/data'\n",
        "try:\n",
        "    os.chdir(os.path.join('/content/drive/MyDrive', workplace))\n",
        "except:\n",
        "    os.mkdir(os.path.join('/content/drive/MyDrive', workplace))\n",
        "    os.chdir(os.path.join('/content/drive/MyDrive', workplace))"
      ],
      "metadata": {
        "id": "b6jAx4kMqvdA"
      },
      "execution_count": null,
      "outputs": []
    },
    {
      "cell_type": "markdown",
      "source": [
        "## Import Package"
      ],
      "metadata": {
        "id": "LKLnosE07Yl1"
      }
    },
    {
      "cell_type": "code",
      "source": [
        "import numpy as np\n",
        "import pandas as pd\n",
        "from sklearn.utils.multiclass import type_of_target\n",
        "import treePlottter # 下载地址：https://github.com/Humble-LiuAo/Machine-Learning/tree/main/Decision%20Tree\n",
        "from sklearn.datasets import load_wine\n",
        "import numpy as np\n",
        "import pandas as pd\n",
        "from sklearn.model_selection import train_test_split\n",
        "from sklearn.utils import resample\n",
        "import random\n",
        "from collections import Counter\n",
        "from statistics import mode"
      ],
      "metadata": {
        "id": "_eEiv6m37dJe"
      },
      "execution_count": null,
      "outputs": []
    },
    {
      "cell_type": "markdown",
      "source": [
        "## Read dataset"
      ],
      "metadata": {
        "id": "xSeXdYNgnQ9y"
      }
    },
    {
      "cell_type": "code",
      "source": [
        "# load wine 数据集\n",
        "data_wine = load_wine()\n",
        "target = data_wine['target']        \n",
        "data = data_wine['data']\n",
        "feature_names = data_wine['feature_names']\n",
        "target_names  = data_wine['target_names']\n",
        "\n",
        "# X：数据 y：标签（种类）\n",
        "X = pd.DataFrame(data,columns=feature_names)\n",
        "y = pd.Series(target,name='class')\n",
        "# 训练集、验证集分割\n",
        "X_train, X_val, y_train, y_val = train_test_split(X, y, test_size = 0.3, random_state=422)"
      ],
      "metadata": {
        "id": "Em_Gt9TwKNOs"
      },
      "execution_count": null,
      "outputs": []
    },
    {
      "cell_type": "markdown",
      "source": [
        "## CART"
      ],
      "metadata": {
        "id": "aVrAyXgVbYbD"
      }
    },
    {
      "cell_type": "code",
      "source": [
        "class Node(object):\n",
        "    '''\n",
        "    树的结点\n",
        "    例：分割值、属性（是否连续）、是否是叶结点\n",
        "    '''\n",
        "    def __init__(self):\n",
        "        self.feature_name = None\n",
        "        self.feature_index = None\n",
        "        self.subtree = {}\n",
        "        self.impurity = None\n",
        "        self.is_continuous = True\n",
        "        self.split_value = None\n",
        "        self.is_leaf = False\n",
        "        self.leaf_class = None\n",
        "        self.leaf_num = None\n",
        "        self.high = -1\n",
        "\n",
        "\n",
        "class DecisionTree(object):\n",
        "    '''\n",
        "    CART 决策树\n",
        "    包含对离散、连续属性的处理\n",
        "    包含随机森林随机选取属性\n",
        "    无剪枝，无对缺失值的处理\n",
        "    '''\n",
        "    def __init__(self, random_forest=False):\n",
        "        self.col_name = []\n",
        "        self.random_forest = random_forest\n",
        "\n",
        "    def fit(self, X_train, y_train):\n",
        "        '''\n",
        "        生成决策树\n",
        "        -------\n",
        "        :param X:  只支持DataFrame类型数据，因为DataFrame中已有列名，省去一个列名的参数。不支持np.array等其他数据类型\n",
        "        :param y:\n",
        "        :return:\n",
        "        '''\n",
        "        X_train.reset_index(inplace=True, drop=True)\n",
        "        y_train.reset_index(inplace=True, drop=True)\n",
        "        \n",
        "        self.columns = list(X_train.columns)  # 包括原数据的列名\n",
        "        self.tree_ = self.generate_tree(X_train, y_train)\n",
        "        return self\n",
        "\n",
        "    def generate_tree(self, X, y):\n",
        "        my_tree = Node()\n",
        "        my_tree.leaf_num = 0\n",
        "\n",
        "        if y.nunique() == 1:  # 属于同一类别\n",
        "            my_tree.is_leaf = True\n",
        "            my_tree.leaf_class = y.values[0]\n",
        "            my_tree.high = 0\n",
        "            my_tree.leaf_num += 1\n",
        "            return my_tree\n",
        "\n",
        "        if X.empty:  # 特征用完了，数据为空，返回样本数最多的类\n",
        "            my_tree.is_leaf = True\n",
        "            my_tree.leaf_class = pd.value_counts(y).index[0]\n",
        "            my_tree.high = 0\n",
        "            my_tree.leaf_num += 1\n",
        "            return my_tree\n",
        "\n",
        "        best_feature_name, best_impurity = self.choose_best_feature_gini(X, y)\n",
        "\n",
        "        my_tree.feature_name = best_feature_name\n",
        "        my_tree.impurity = best_impurity[0]\n",
        "        my_tree.feature_index = self.columns.index(best_feature_name)\n",
        "\n",
        "        feature_values = X.loc[:, best_feature_name]\n",
        "\n",
        "        if len(best_impurity) == 1:  # 离散值\n",
        "            my_tree.is_continuous = False\n",
        "\n",
        "            unique_vals = pd.unique(feature_values)\n",
        "            sub_X = X.drop(best_feature_name, axis=1)\n",
        "\n",
        "            max_high = -1\n",
        "            for value in unique_vals:\n",
        "                my_tree.subtree[value] = self.generate_tree(sub_X[feature_values == value], y[feature_values == value])\n",
        "                if my_tree.subtree[value].high > max_high:  # 记录子树下最高的高度\n",
        "                    max_high = my_tree.subtree[value].high\n",
        "                my_tree.leaf_num += my_tree.subtree[value].leaf_num\n",
        "\n",
        "            my_tree.high = max_high + 1\n",
        "\n",
        "        elif len(best_impurity) == 2:  # 连续值\n",
        "            my_tree.is_continuous = True\n",
        "            my_tree.split_value = best_impurity[1]\n",
        "            up_part = '>= {:.3f}'.format(my_tree.split_value)\n",
        "            down_part = '< {:.3f}'.format(my_tree.split_value)\n",
        "\n",
        "            my_tree.subtree[up_part] = self.generate_tree(X[feature_values >= my_tree.split_value],\n",
        "                                                          y[feature_values >= my_tree.split_value])\n",
        "            my_tree.subtree[down_part] = self.generate_tree(X[feature_values < my_tree.split_value],\n",
        "                                                            y[feature_values < my_tree.split_value])\n",
        "\n",
        "            my_tree.leaf_num += (my_tree.subtree[up_part].leaf_num + my_tree.subtree[down_part].leaf_num)\n",
        "\n",
        "            my_tree.high = max(my_tree.subtree[up_part].high, my_tree.subtree[down_part].high) + 1\n",
        "\n",
        "        return my_tree\n",
        "\n",
        "    def predict(self, X):\n",
        "        '''\n",
        "        同样只支持 pd.DataFrame类型数据\n",
        "        :param X:  pd.DataFrame 类型\n",
        "        :return:   若\n",
        "        '''\n",
        "        if not hasattr(self, \"tree_\"):\n",
        "            raise Exception('you have to fit first before predict.')\n",
        "        if X.ndim == 1:\n",
        "            return self.predict_single(X)\n",
        "        else:\n",
        "            return X.apply(self.predict_single, axis=1)\n",
        "\n",
        "    def predict_single(self, x, subtree=None):\n",
        "        '''\n",
        "        预测单一样本。 实际上这里也可以写成循环，写成递归样本大的时候有栈溢出的风险。\n",
        "        :param x:\n",
        "        :param subtree: 根据特征，往下递进的子树。\n",
        "        :return:\n",
        "        '''\n",
        "        if subtree is None:\n",
        "            subtree = self.tree_\n",
        "\n",
        "        if subtree.is_leaf:\n",
        "            return subtree.leaf_class\n",
        "\n",
        "        if subtree.is_continuous:  # 若是连续值，需要判断是\n",
        "            if x[subtree.feature_index] >= subtree.split_value:\n",
        "                return self.predict_single(x, subtree.subtree['>= {:.3f}'.format(subtree.split_value)])\n",
        "            else:\n",
        "                return self.predict_single(x, subtree.subtree['< {:.3f}'.format(subtree.split_value)])\n",
        "        else:\n",
        "            return self.predict_single(x, subtree.subtree[x[subtree.feature_index]])\n",
        "\n",
        "    def choose_best_feature_gini(self, X, y):\n",
        "        '''\n",
        "        选择划分最优属性\n",
        "        随机森林选随机选取np.log2(X.shape[1])个属性\n",
        "        '''\n",
        "        features = X.columns\n",
        "        if self.random_forest: # 随机选取属性 \n",
        "            col = random.sample(range(0, X.shape[1]), round(np.log2(X.shape[1]))) \n",
        "            features = features[col]\n",
        "\n",
        "        best_feature_name = None\n",
        "        best_gini = [float('inf')]\n",
        "        for feature_name in features:\n",
        "            # is_continuous = type_of_target(X[feature_name]) == 'continuous'\n",
        "            is_continuous = 'continuous' # wine 数据集全为连续\n",
        "            gini_idex = self.gini_index(X[feature_name], y, is_continuous)\n",
        "            if gini_idex[0] < best_gini[0]:\n",
        "                best_feature_name = feature_name\n",
        "                best_gini = gini_idex\n",
        "\n",
        "        return best_feature_name, best_gini\n",
        "\n",
        "    def gini_index(self, feature, y, is_continuous=False):\n",
        "        '''\n",
        "        计算基尼指数， 对于连续值，选择基尼指数最小的点，作为分割点\n",
        "        -------\n",
        "        :param feature:\n",
        "        :param y:\n",
        "        :return:\n",
        "        '''\n",
        "        m = y.shape[0]\n",
        "        unique_value = pd.unique(feature)\n",
        "        if is_continuous:\n",
        "            unique_value.sort()  # 排序, 用于建立分割点\n",
        "            # 这里其实也可以直接用feature值作为分割点，但这样会出现空集\n",
        "            split_point_set = [(unique_value[i] + unique_value[i + 1]) / 2 for i in range(len(unique_value) - 1)]\n",
        "\n",
        "            min_gini = float('inf')\n",
        "            min_gini_point = None\n",
        "            for split_point_ in split_point_set:  # 遍历所有的分割点，寻找基尼指数最小的分割点\n",
        "                Dv1 = y[feature <= split_point_]\n",
        "                Dv2 = y[feature > split_point_]\n",
        "                gini_index = Dv1.shape[0] / m * self.gini(Dv1) + Dv2.shape[0] / m * self.gini(Dv2)\n",
        "\n",
        "                if gini_index < min_gini:\n",
        "                    min_gini = gini_index\n",
        "                    min_gini_point = split_point_\n",
        "            return [min_gini, min_gini_point]\n",
        "        else:\n",
        "            gini_index = 0\n",
        "            for value in unique_value:\n",
        "                Dv = y[feature == value]\n",
        "                m_dv = Dv.shape[0]\n",
        "                gini = self.gini(Dv)  \n",
        "                gini_index += m_dv / m * gini  \n",
        "\n",
        "            return [gini_index]\n",
        "\n",
        "    def gini(self, y):\n",
        "        p = pd.value_counts(y) / y.shape[0]\n",
        "        gini = 1 - np.sum(p ** 2)\n",
        "        return gini\n"
      ],
      "metadata": {
        "id": "lolmcO8d7RA_"
      },
      "execution_count": null,
      "outputs": []
    },
    {
      "cell_type": "markdown",
      "source": [
        "# Ramdom forests"
      ],
      "metadata": {
        "id": "bqOONCkosHCP"
      }
    },
    {
      "cell_type": "code",
      "source": [
        "class random_forest():\n",
        "    '''\n",
        "    CART 随机森林\n",
        "    ---\n",
        "    随机选取样本 \n",
        "    随机选取特征(CART: choose_best_feature_gini() 函数中)\n",
        "    '''\n",
        "    def __init__(self, num_trees, samples=100): # samples默认100\n",
        "        self.samples = samples\n",
        "        self.forest = []\n",
        "        self.num_trees = num_trees\n",
        "\n",
        "    def fit(self, X_train, y_train):\n",
        "        '''\n",
        "        训练 num_trees 棵树\n",
        "        '''    \n",
        "        for i in range(self.num_trees):\n",
        "            bootstrapSamples = resample(X_train,y_train,n_samples=self.samples,replace=True) # 随机选取部分样本\n",
        "            X__train, y__train = bootstrapSamples[0], bootstrapSamples[1]\n",
        "            tree = DecisionTree(random_forest=True)\n",
        "            tree.fit(X__train, y__train)\n",
        "            # treePlottter.create_plot(tree.tree_)\n",
        "                     \n",
        "            self.forest.append(tree)\n",
        "\n",
        "    def predict(self, X_val):\n",
        "        '''\n",
        "        num_trees 分别棵树进行预测\n",
        "        多数投票法得到最终预测\n",
        "        '''\n",
        "        predict = []\n",
        "        final_pred = np.array([])\n",
        "\n",
        "        for tree in self.forest:\n",
        "            y = tree.predict(X_val)\n",
        "            predict.append(y)\n",
        "            tree_accuracy = (y==y_val).sum()/len(y_val)\n",
        "            print(f\"tree_accuracy: {tree_accuracy*100}%\")\n",
        "\n",
        "        for index, v in X_val.iterrows():\n",
        "            li = []\n",
        "            for i in range(self.num_trees):\n",
        "                li.append(predict[i][index])\n",
        "            try:\n",
        "                value = mode(li) # 多个值相同最多次数时： no unique mode\n",
        "            except:\n",
        "                value = Counter(li) # 次数最多的值，如果有多个值，随机选取其中一个\n",
        "                value = value.most_common(1)[0][0]\n",
        "                print(value)\n",
        "            final_pred = np.append(final_pred, value)\n",
        "        return final_pred\n",
        "        "
      ],
      "metadata": {
        "id": "4Qs1kVLz9dxu"
      },
      "execution_count": null,
      "outputs": []
    },
    {
      "cell_type": "markdown",
      "source": [
        "## Main"
      ],
      "metadata": {
        "id": "frl9kz762-wv"
      }
    },
    {
      "cell_type": "code",
      "source": [
        "# decision tree\n",
        "one_tree = DecisionTree()\n",
        "one_tree.fit(X_train, y_train)\n",
        "treePlottter.create_plot(one_tree.tree_)"
      ],
      "metadata": {
        "colab": {
          "base_uri": "https://localhost:8080/",
          "height": 264
        },
        "id": "r14fdOt5cG9Z",
        "outputId": "3b5bafc2-6958-4438-8612-b1f1e4e26370"
      },
      "execution_count": null,
      "outputs": [
        {
          "output_type": "display_data",
          "data": {
            "image/png": "[encoded data removed]",
            "text/plain": [
              "<Figure size 432x288 with 1 Axes>"
            ]
          },
          "metadata": {}
        }
      ]
    },
    {
      "cell_type": "code",
      "source": [
        "# random forest\n",
        "num_trees = 20\n",
        "random_forest = random_forest(num_trees)\n",
        "random_forest.fit(X_train, y_train)"
      ],
      "metadata": {
        "id": "V4YFI3WC-KBh"
      },
      "execution_count": null,
      "outputs": []
    },
    {
      "cell_type": "markdown",
      "source": [
        "## Test"
      ],
      "metadata": {
        "id": "tKVqCAUpf_aJ"
      }
    },
    {
      "cell_type": "code",
      "source": [
        "pre = random_forest.predict(X_val)\n",
        "tree_accuracy = (one_tree.predict(X_val)==y_val).sum()/len(y_val)\n",
        "forest_accuracy = (pre==y_val).sum()/len(y_val)\n",
        "print(f\"tree_accuracy: {tree_accuracy*100}%,forest_accuracy: {forest_accuracy*100}%\")"
      ],
      "metadata": {
        "colab": {
          "base_uri": "https://localhost:8080/"
        },
        "id": "RmbMJ_B28tzo",
        "outputId": "7c12ba46-2b50-488b-fb02-895c21bc915d"
      },
      "execution_count": null,
      "outputs": [
        {
          "output_type": "stream",
          "name": "stdout",
          "text": [
            "tree_accuracy: 87.03703703703704%\n",
            "tree_accuracy: 87.03703703703704%\n",
            "tree_accuracy: 87.03703703703704%\n",
            "tree_accuracy: 75.92592592592592%\n",
            "tree_accuracy: 85.18518518518519%\n",
            "tree_accuracy: 88.88888888888889%\n",
            "tree_accuracy: 87.03703703703704%\n",
            "tree_accuracy: 92.5925925925926%\n",
            "tree_accuracy: 94.44444444444444%\n",
            "tree_accuracy: 85.18518518518519%\n",
            "tree_accuracy: 87.03703703703704%\n",
            "tree_accuracy: 92.5925925925926%\n",
            "tree_accuracy: 79.62962962962963%\n",
            "tree_accuracy: 85.18518518518519%\n",
            "tree_accuracy: 85.18518518518519%\n",
            "tree_accuracy: 92.5925925925926%,forest_accuracy: 98.14814814814815%\n"
          ]
        }
      ]
    }
  ]
}