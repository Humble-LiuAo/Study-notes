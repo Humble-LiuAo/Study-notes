{
 "cells": [
  {
   "cell_type": "markdown",
   "metadata": {},
   "source": [
    "# 序\n",
    "\n",
    "大家好，我有幸取得了第一名，特将经验分享给大家~ 但由于水平、精力有限，难免存在谬误，请大家海涵！"
   ]
  },
  {
   "cell_type": "markdown",
   "metadata": {},
   "source": [
    "# 1. 依赖安装和导入"
   ]
  },
  {
   "cell_type": "code",
   "execution_count": null,
   "metadata": {},
   "outputs": [],
   "source": [
    "!pip install scikit-learn sklearn imblearn --user"
   ]
  },
  {
   "cell_type": "code",
   "execution_count": null,
   "metadata": {},
   "outputs": [],
   "source": [
    "import os\n",
    "import math\n",
    "import time\n",
    "import random\n",
    "import datetime\n",
    "import numpy as np\n",
    "import pandas as pd\n",
    "import seaborn as sns\n",
    "import matplotlib.pyplot as plt\n",
    "import tensorflow as tf\n",
    "import tensorflow.keras as K\n",
    "from tensorflow.keras import Sequential, utils, regularizers, Model, Input\n",
    "from tensorflow.keras.layers import Flatten, Dense, Conv1D, MaxPool1D, Dropout, AvgPool1D\n",
    "from imblearn.over_sampling import SMOTE\n",
    "from sklearn.model_selection import KFold\n",
    "from sklearn.preprocessing import OneHotEncoder"
   ]
  },
  {
   "cell_type": "markdown",
   "metadata": {},
   "source": [
    "# 2. 数据加载与预处理"
   ]
  },
  {
   "cell_type": "code",
   "execution_count": null,
   "metadata": {},
   "outputs": [],
   "source": [
    "# 加载训练集和测试集(相对路径)\n",
    "train = pd.read_csv('./train.csv')\n",
    "test = pd.read_csv('./testA.csv')"
   ]
  },
  {
   "cell_type": "code",
   "execution_count": null,
   "metadata": {},
   "outputs": [],
   "source": [
    "# 数据精度量化压缩\n",
    "def reduce_mem_usage(df):\n",
    "    # 处理前 数据集总内存计算\n",
    "    start_mem = df.memory_usage().sum() / 1024**2 \n",
    "    print('Memory usage of dataframe is {:.2f} MB'.format(start_mem))\n",
    "    \n",
    "    # 遍历特征列\n",
    "    for col in df.columns:\n",
    "        # 当前特征类型\n",
    "        col_type = df[col].dtype\n",
    "        # 处理 numeric 型数据\n",
    "        if col_type != object:\n",
    "            c_min = df[col].min()  # 最小值\n",
    "            c_max = df[col].max()  # 最大值\n",
    "            # int 型数据 精度转换\n",
    "            if str(col_type)[:3] == 'int':\n",
    "                if c_min > np.iinfo(np.int8).min and c_max < np.iinfo(np.int8).max:\n",
    "                    df[col] = df[col].astype(np.int8)\n",
    "                elif c_min > np.iinfo(np.int16).min and c_max < np.iinfo(np.int16).max:\n",
    "                    df[col] = df[col].astype(np.int16)\n",
    "                elif c_min > np.iinfo(np.int32).min and c_max < np.iinfo(np.int32).max:\n",
    "                    df[col] = df[col].astype(np.int32)\n",
    "                elif c_min > np.iinfo(np.int64).min and c_max < np.iinfo(np.int64).max:\n",
    "                    df[col] = df[col].astype(np.int64)  \n",
    "            # float 型数据 精度转换\n",
    "            else:\n",
    "                if c_min > np.finfo(np.float16).min and c_max < np.finfo(np.float16).max:\n",
    "                    df[col] = df[col].astype(np.float16)\n",
    "                elif c_min > np.finfo(np.float32).min and c_max < np.finfo(np.float32).max:\n",
    "                    df[col] = df[col].astype(np.float32)\n",
    "                else:\n",
    "                    df[col] = df[col].astype(np.float64)\n",
    "        # 处理 object 型数据\n",
    "        else:\n",
    "            df[col] = df[col].astype('category')  # object 转 category\n",
    "    \n",
    "    # 处理后 数据集总内存计算\n",
    "    end_mem = df.memory_usage().sum() / 1024**2 \n",
    "    print('Memory usage after optimization is: {:.2f} MB'.format(end_mem))\n",
    "    print('Decreased by {:.1f}%'.format(100 * (start_mem - end_mem) / start_mem))\n",
    "    \n",
    "    return df\n",
    "\n",
    "\n",
    "# 训练集特征处理与精度量化\n",
    "train_list = []\n",
    "for items in train.values:\n",
    "    train_list.append([items[0]] + [float(i) for i in items[1].split(',')] + [items[2]])\n",
    "train = pd.DataFrame(np.array(train_list))\n",
    "train.columns = ['id'] + ['s_' + str(i) for i in range(len(train_list[0])-2)] + ['label']  # 特征分离\n",
    "train = reduce_mem_usage(train)  # 精度量化\n",
    "\n",
    "\n",
    "# 测试集特征处理与精度量化\n",
    "test_list=[]\n",
    "for items in test.values:\n",
    "    test_list.append([items[0]] + [float(i) for i in items[1].split(',')])\n",
    "test = pd.DataFrame(np.array(test_list))\n",
    "test.columns = ['id'] + ['s_'+str(i) for i in range(len(test_list[0])-1)]  # 特征分离\n",
    "test = reduce_mem_usage(test)  # 精度量化"
   ]
  },
  {
   "cell_type": "code",
   "execution_count": null,
   "metadata": {},
   "outputs": [],
   "source": [
    "# 查看训练集, 分离标签与样本, 去除 id\n",
    "y_train = train['label']\n",
    "x_train = train.drop(['id', 'label'], axis=1)\n",
    "print(x_train.shape, y_train.shape)\n",
    "\n",
    "# 查看测试集, 去除 id\n",
    "X_test = test.drop(['id'], axis=1)\n",
    "print(X_test.shape)\n",
    "\n",
    "# 将测试集转换为适应 CNN 输入的 shape\n",
    "X_test = np.array(X_test).reshape(X_test.shape[0], X_test.shape[1], 1)\n",
    "print(X_test.shape, X_test.dtype)"
   ]
  },
  {
   "cell_type": "markdown",
   "metadata": {},
   "source": [
    "# 3. 数据探索性分析"
   ]
  },
  {
   "cell_type": "markdown",
   "metadata": {},
   "source": [
    "## 3.1 基本分析"
   ]
  },
  {
   "cell_type": "code",
   "execution_count": null,
   "metadata": {},
   "outputs": [],
   "source": [
    "train.head()  # 查看前 5 条信息"
   ]
  },
  {
   "cell_type": "code",
   "execution_count": null,
   "metadata": {},
   "outputs": [],
   "source": [
    "test.head()  # 查看前 5 条信息"
   ]
  },
  {
   "cell_type": "code",
   "execution_count": null,
   "metadata": {},
   "outputs": [],
   "source": [
    "train.describe()"
   ]
  },
  {
   "cell_type": "code",
   "execution_count": null,
   "metadata": {},
   "outputs": [],
   "source": [
    "test.describe()"
   ]
  },
  {
   "cell_type": "code",
   "execution_count": null,
   "metadata": {},
   "outputs": [],
   "source": [
    "train.info()"
   ]
  },
  {
   "cell_type": "code",
   "execution_count": null,
   "metadata": {},
   "outputs": [],
   "source": [
    "test.info()"
   ]
  },
  {
   "cell_type": "markdown",
   "metadata": {},
   "source": [
    "综上可知：\n",
    "\n",
    "1. 主要的特征数据为 1 维信号振幅 (已被归一化至 0～1 了)，总长度均为 205 (205 个时间节点/心跳节拍)\n",
    "2. 同时，除波形数据外，没有任何辅助或先验信息可以利用\n",
    "3. 波形数据均已被量化为 float16 类型的数值型特征，且没有类别型特征需要考虑\n",
    "4. 没有缺失值，无需填充，非常理想 —— 事实上，未采集到的信号默认振幅就是 0，故不存在缺失值的问题\n",
    "5. 显然，这类非表格数据更适合用神经网络来处理，而非传统机器学习模型"
   ]
  },
  {
   "cell_type": "markdown",
   "metadata": {},
   "source": [
    "## 3.2 查看类别分布"
   ]
  },
  {
   "cell_type": "code",
   "execution_count": null,
   "metadata": {},
   "outputs": [],
   "source": [
    "plt.hist(train['label'], orientation = 'vertical', histtype = 'bar', color = 'red')\n",
    "plt.show() "
   ]
  },
  {
   "cell_type": "markdown",
   "metadata": {},
   "source": [
    "可见，训练-验证集中存在 **严重的类别不平衡问题**。为此，有多种方式应对(https://blog.csdn.net/qq_39478403/article/details/115533295)。\n",
    "\n",
    "试了很多种方法，最后发现还是用 SMOTE 对少数类别上采样效果最好："
   ]
  },
  {
   "cell_type": "code",
   "execution_count": null,
   "metadata": {},
   "outputs": [],
   "source": [
    "# 使用 SMOTE 对数据进行上采样以解决类别不平衡问题\n",
    "smote = SMOTE(random_state=2021, n_jobs=-1)\n",
    "k_x_train, k_y_train = smote.fit_resample(x_train, y_train)  \n",
    "print(f\"after smote, k_x_train.shape: {k_x_train.shape}, k_y_train.shape: {k_y_train.shape}\")\n",
    "\n",
    "# 将训练集转换为适应 CNN 输入的 shape\n",
    "k_x_train = np.array(k_x_train).reshape(k_x_train.shape[0], k_x_train.shape[1], 1)"
   ]
  },
  {
   "cell_type": "code",
   "execution_count": null,
   "metadata": {},
   "outputs": [],
   "source": [
    "plt.hist(k_y_train, orientation = 'vertical', histtype = 'bar', color = 'blue')\n",
    "plt.show() "
   ]
  },
  {
   "cell_type": "markdown",
   "metadata": {},
   "source": [
    "但这样做的缺点也显而易见 —— 运算量大幅度增加且容易导致过拟合，这也是我从 A 榜切换到 B 榜分数大跌的原因之一 T T"
   ]
  },
  {
   "cell_type": "markdown",
   "metadata": {},
   "source": [
    "# 4. 辅助函数"
   ]
  },
  {
   "cell_type": "code",
   "execution_count": null,
   "metadata": {},
   "outputs": [],
   "source": [
    "# 评估函数\n",
    "def abs_sum(y_pred, y_true):\n",
    "    y_pred = np.array(y_pred)\n",
    "    y_true = np.array(y_true)\n",
    "    loss = sum(sum(abs(y_pred-y_true)))\n",
    "    return loss"
   ]
  },
  {
   "cell_type": "markdown",
   "metadata": {},
   "source": [
    "# 5. 模型训练与推理 (TensorFlow 2.2+)\n",
    "\n",
    "- 由于数据特征形式较简单，仅 SMOTE 上采样处理后重复、相似性高，使用 **过于复杂和深层** 的神经网络将 **极易过拟合**，故本方案采用的模型都较为简单，且均使用了 Dropout 减轻过拟合(几乎是必须的操作)\n",
    "- 共用 3 个单模融合，A 榜得分分别约为：Net1 142，Net3 156，Net8 145，此亦为加权融合设置权重的依据\n",
    "- 模型融合并取得提升的前提是 **好而不同**，为此，3 个模型各自具有一定性能 (较好) 但在细节上都有一定差别 (不同)。模型的设计是本方案提升的关键，例如膨胀卷积、各种池化、分类器等，需细品 ^ ^\n",
    "- 由于模型及其超参数在 B 榜时已确定和固定，不再划分训练集和验证集，直接使用全数据集训练模型 (但 A 榜平时采用 10-fold CV)\n",
    "- 训练策略均为：学习率阶梯衰减策略 LearningRateScheduler +  Adam 优化器 + sparse_categorical_crossentropy 损失函数 + batch_size 64 + epoch 30"
   ]
  },
  {
   "cell_type": "markdown",
   "metadata": {},
   "source": [
    "## 5.1 Net 1"
   ]
  },
  {
   "cell_type": "code",
   "execution_count": null,
   "metadata": {},
   "outputs": [],
   "source": [
    "class Net1(K.Model):\n",
    "    def __init__(self):\n",
    "        super(Net1, self).__init__()\n",
    "        self.conv1 = Conv1D(filters=16, kernel_size=3, padding='same', activation='relu', input_shape = (205, 1))\n",
    "        self.conv2 = Conv1D(filters=32, kernel_size=3, dilation_rate=2, padding='same', activation='relu')\n",
    "        self.conv3 = Conv1D(filters=64, kernel_size=3, dilation_rate=2, padding='same', activation='relu')\n",
    "        self.conv4 = Conv1D(filters=64, kernel_size=5, dilation_rate=2, padding='same', activation='relu')\n",
    "        self.max_pool1 = MaxPool1D(pool_size=3, strides=2, padding='same')\n",
    "        \n",
    "        self.conv5 = Conv1D(filters=128, kernel_size=5, dilation_rate=2, padding='same', activation='relu')\n",
    "        self.conv6 = Conv1D(filters=128, kernel_size=5, dilation_rate=2, padding='same', activation='relu')\n",
    "        self.max_pool2 = MaxPool1D(pool_size=3, strides=2, padding='same')\n",
    "        \n",
    "        self.dropout = Dropout(0.5)\n",
    "        self.flatten = Flatten()\n",
    "        \n",
    "        self.fc1 = Dense(units=256, activation='relu')\n",
    "        self.fc21 = Dense(units=16, activation='relu')\n",
    "        self.fc22 = Dense(units=256, activation='sigmoid')\n",
    "        self.fc3 = Dense(units=4, activation='softmax')\n",
    "            \n",
    "    def call(self, x):\n",
    "        x = self.conv1(x)\n",
    "        x = self.conv2(x)\n",
    "        x = self.conv3(x)\n",
    "        x = self.conv4(x)\n",
    "        x = self.max_pool1(x)\n",
    "        \n",
    "        x = self.conv5(x)\n",
    "        x = self.conv6(x) \n",
    "        x = self.max_pool2(x)\n",
    "        \n",
    "        x = self.dropout(x)\n",
    "        x = self.flatten(x)\n",
    "        \n",
    "        x1 = self.fc1(x)\n",
    "        x2 = self.fc22(self.fc21(x))\n",
    "        x = self.fc3(x1+x2)\n",
    "        \n",
    "        return x "
   ]
  },
  {
   "cell_type": "markdown",
   "metadata": {},
   "source": [
    "## 5.2 Net 3"
   ]
  },
  {
   "cell_type": "code",
   "execution_count": null,
   "metadata": {},
   "outputs": [],
   "source": [
    "class GeMPooling(tf.keras.layers.Layer):\n",
    "    def __init__(self, p=1.0, train_p=False):\n",
    "        super().__init__()\n",
    "        self.eps = 1e-6\n",
    "        self.p = tf.Variable(p, dtype=tf.float32) if train_p else p\n",
    "\n",
    "    def call(self, inputs: tf.Tensor, **kwargs):\n",
    "        inputs = tf.clip_by_value(inputs, clip_value_min=1e-6, clip_value_max=tf.reduce_max(inputs))\n",
    "        inputs = tf.pow(inputs, self.p)\n",
    "        inputs = tf.reduce_mean(inputs, axis=[1], keepdims=False)\n",
    "        inputs = tf.pow(inputs, 1./self.p)\n",
    "        return inputs\n",
    "\n",
    "\n",
    "class Net3(K.Model):\n",
    "    def __init__(self):\n",
    "        super(Net3, self).__init__()\n",
    "        self.conv1 = Conv1D(filters=16, kernel_size=3, padding='same', activation='relu', input_shape = (205, 1))\n",
    "        self.conv2 = Conv1D(filters=32, kernel_size=3, dilation_rate=2, padding='same', activation='relu')\n",
    "        self.conv3 = Conv1D(filters=64, kernel_size=3, dilation_rate=2, padding='same', activation='relu')\n",
    "        self.max_pool1 = MaxPool1D(pool_size=3, strides=2, padding='same')\n",
    "        \n",
    "        self.conv4 = Conv1D(filters=64, kernel_size=5, dilation_rate=2, padding='same', activation='relu')\n",
    "        self.conv5 = Conv1D(filters=128, kernel_size=5, dilation_rate=2, padding='same', activation='relu')\n",
    "        self.max_pool2 = MaxPool1D(pool_size=3, strides=2, padding='same')\n",
    "        \n",
    "        self.conv6 = Conv1D(filters=256, kernel_size=5, dilation_rate=2, padding='same', activation='relu')\n",
    "        self.conv7 = Conv1D(filters=128, kernel_size=7, dilation_rate=2, padding='same', activation='relu')\n",
    "        self.gempool = GeMPooling()\n",
    "        \n",
    "        self.dropout1 = Dropout(0.5)\n",
    "        self.flatten = Flatten()\n",
    "\n",
    "        self.fc1 = Dense(units=256, activation='relu')\n",
    "        self.fc21 = Dense(units=16, activation='relu')\n",
    "        self.fc22 = Dense(units=256, activation='sigmoid')\n",
    "        self.fc3 = Dense(units=4, activation='softmax')\n",
    "\n",
    "    def call(self, x):\n",
    "        x = self.conv1(x)\n",
    "        x = self.conv2(x)\n",
    "        x = self.conv3(x)\n",
    "        x = self.max_pool1(x)\n",
    "        \n",
    "        x = self.conv4(x)\n",
    "        x = self.conv5(x)\n",
    "        x = self.max_pool2(x)\n",
    "        \n",
    "        x = self.conv6(x)\n",
    "        x = self.conv7(x)\n",
    "\n",
    "        x = self.gempool(x)\n",
    "        x = self.dropout1(x)\n",
    "        \n",
    "        x = self.flatten(x)  \n",
    "        x1 = self.fc1(x)\n",
    "        x2 = self.fc22(self.fc21(x))\n",
    "        x = self.fc3(x1 + x2)  \n",
    "        \n",
    "        return x"
   ]
  },
  {
   "cell_type": "markdown",
   "metadata": {},
   "source": [
    "## 5.3 Net 8"
   ]
  },
  {
   "cell_type": "code",
   "execution_count": null,
   "metadata": {},
   "outputs": [],
   "source": [
    "class Net8(K.Model): \n",
    "    def __init__(self):\n",
    "        super(Net8, self).__init__()\n",
    "        self.conv1 = Conv1D(filters=16, kernel_size=3, padding='same', activation='relu',input_shape = (205, 1))\n",
    "        self.conv2 = Conv1D(filters=32, kernel_size=3, padding='same', dilation_rate=2, activation='relu')\n",
    "        self.conv3 = Conv1D(filters=64, kernel_size=3, padding='same', dilation_rate=2, activation='relu')\n",
    "        self.conv4 = Conv1D(filters=128, kernel_size=3, padding='same', dilation_rate=2, activation='relu')\n",
    "        self.conv5 = Conv1D(filters=128, kernel_size=5, padding='same', dilation_rate=2, activation='relu')\n",
    "        self.max_pool1 = MaxPool1D(pool_size=3, strides=2, padding='same')\n",
    "        self.avg_pool1 = AvgPool1D(pool_size=3, strides=2, padding='same')\n",
    "        \n",
    "        self.conv6 = Conv1D(filters=128, kernel_size=5, padding='same', dilation_rate=2, activation='relu')\n",
    "        self.conv7 = Conv1D(filters=128, kernel_size=5, padding='same', dilation_rate=2,  activation='relu')\n",
    "        self.max_pool2 = MaxPool1D(pool_size=3, strides=2, padding='same')\n",
    "        self.avg_pool2 = AvgPool1D(pool_size=3, strides=2, padding='same')\n",
    "        \n",
    "        self.dropout = Dropout(0.5)\n",
    "    \n",
    "        self.flatten = Flatten()\n",
    "        \n",
    "        self.fc1 = Dense(units=256, activation='relu')\n",
    "        self.fc21 = Dense(units=16, activation='relu')\n",
    "        self.fc22 = Dense(units=256, activation='sigmoid')\n",
    "        self.fc3 = Dense(units=4, activation='softmax')\n",
    "            \n",
    "    def call(self, x):\n",
    "        x = self.conv1(x)\n",
    "        x = self.conv2(x)\n",
    "        x = self.conv3(x)\n",
    "        x = self.conv4(x)\n",
    "        x = self.conv5(x)\n",
    "        xm1 = self.max_pool1(x)\n",
    "        xa1 = self.avg_pool1(x)\n",
    "        x = tf.concat([xm1, xa1], 2)\n",
    "        \n",
    "        x = self.conv6(x)\n",
    "        x = self.conv7(x) \n",
    "        xm2 = self.max_pool2(x)\n",
    "        xa2 = self.avg_pool2(x)\n",
    "        x = tf.concat([xm2, xa2], 2)\n",
    "        \n",
    "        x = self.dropout(x)\n",
    "        x = self.flatten(x)\n",
    "        \n",
    "        x1 = self.fc1(x)\n",
    "        x2 = self.fc22(self.fc21(x))\n",
    "        x = self.fc3(x1+x2)\n",
    "        \n",
    "        return x "
   ]
  },
  {
   "cell_type": "markdown",
   "metadata": {},
   "source": [
    "# 6. 软投票融合 + 阈值法\n",
    "\n",
    "- 由于 3 个单模均输出类别概率预测值，故使用 Soft Voting 根据 A 榜单模得分设置权重，以实现预测结果加权融合\n",
    "- 由于本赛题属于分类问题，可使用阈值法将预测概率不小于 0.5 的类别置 1，其余则置 0\n",
    "- 对于预测概率均小于 0.5 的难样本，使用二次处理：若最大预测值比次大预测值至少高 0.04 (这个值需要自己把握)，则认为最大预测值足够可信并置 1 其余置 0；否则认为最大预测值和次大预测值区分度不够高，难以分辨不作处理，仅令最小的另外两个预测值置 0"
   ]
  },
  {
   "cell_type": "code",
   "execution_count": null,
   "metadata": {},
   "outputs": [],
   "source": [
    "# 根据 A 榜得分，加权融合预测结果\n",
    "predictions_weighted = 0.35 * predictions_nn1 + 0.31 * predictions_nn3 + 0.34* predictions_nn8\n",
    "predictions_weighted[:5]"
   ]
  },
  {
   "cell_type": "code",
   "execution_count": null,
   "metadata": {},
   "outputs": [],
   "source": [
    "# 准备提交结果\n",
    "submit = pd.DataFrame()\n",
    "submit['id'] = range(100000, 120000)\n",
    "submit['label_0'] = predictions_weighted[:, 0]\n",
    "submit['label_1'] = predictions_weighted[:, 1]\n",
    "submit['label_2'] = predictions_weighted[:, 2]\n",
    "submit['label_3'] = predictions_weighted[:, 3]\n",
    "submit.head()"
   ]
  },
  {
   "cell_type": "code",
   "execution_count": null,
   "metadata": {},
   "outputs": [],
   "source": [
    "# 第一次后处理未涉及的难样本 index\n",
    "others = []\n",
    "\n",
    "# 第一次后处理 - 将预测概率值大于 0.5 的样本的概率置 1，其余置 0\n",
    "threshold = 0.5  \n",
    "for index, row in submit.iterrows():\n",
    "    row_max = max(list(row[1:]))  # 当前行中的最大类别概率预测值\n",
    "    if row_max > threshold:\n",
    "        for i in range(1, 5):\n",
    "            if row[i] > threshold:\n",
    "                submit.iloc[index, i] = 1  # 大于 0.5 的类别概率预测值置 1\n",
    "            else:\n",
    "                submit.iloc[index, i] = 0  # 其余类别概率预测值置 0\n",
    "    else:\n",
    "        others.append(index)  # 否则，没有类别概率预测值不小于 0.5，加入第一次后处理未涉及的难样本列表，等待第二次后处理\n",
    "        print(index, row)\n",
    "                \n",
    "submit.head(5)"
   ]
  },
  {
   "cell_type": "code",
   "execution_count": null,
   "metadata": {},
   "outputs": [],
   "source": [
    "# 第二次后处理 - 在预测概率值均不大于 0.5 的样本中，若最大预测值与次大预测值相差大于 0.04，则将最大预测值置 1，其余预测值置 0；\n",
    "#                否则，对最大预测值和次大预测值不处理 (难分类)，仅对其余样本预测值置 0\n",
    "for idx in others:\n",
    "    value = submit.iloc[idx].values[1:]\n",
    "    ordered_value = sorted([(v, j) for j, v in enumerate(value)], reverse=True)  # 根据类别概率预测值大小排序\n",
    "    #print(ordered_value)\n",
    "    if ordered_value[0][0] - ordered_value[1][0] >= 0.04:  # 最大与次大值相差至少 0.04\n",
    "        submit.iloc[idx, ordered_value[0][1]+1] = 1  # 则足够置信最大概率预测值并置为 1\n",
    "        for k in range(1, 4):\n",
    "            submit.iloc[idx, ordered_value[k][1]+1] = 0  # 对非最大的其余三个类别概率预测值置 0\n",
    "    else:\n",
    "        for s in range(2, 4):\n",
    "            submit.iloc[idx, ordered_value[s][1]+1] = 0  # 难分样本，仅对最小的两个类别概率预测值置 0        \n",
    "        \n",
    "    print(submit.iloc[idx])   "
   ]
  },
  {
   "cell_type": "markdown",
   "metadata": {},
   "source": [
    "# 7. 保存结果用于提交"
   ]
  },
  {
   "cell_type": "code",
   "execution_count": null,
   "metadata": {},
   "outputs": [],
   "source": [
    "# 检视最后的预测结果\n",
    "submit.head()"
   ]
  },
  {
   "cell_type": "code",
   "execution_count": null,
   "metadata": {},
   "outputs": [],
   "source": [
    "# 保存预测结果\n",
    "submit.to_csv((\"./submit_\"+datetime.datetime.now().strftime('%Y%m%d_%H%M%S') + \".csv\"), index=False) "
   ]
  },
  {
   "cell_type": "markdown",
   "metadata": {},
   "source": [
    "# 8. 后话\n",
    "\n",
    "- 对于这类非表格数据，我觉得显然不适合用 LGB、XGB 等。因为从我的角度看，每条样本的 205 个振幅实际是就是一个长度为 205 的特征，而非 205 个具有不同性质的特征，所以我一开始就采用神经网络。当然，LGB、XGB 也试过，效果差很多，在预料的范围之内\n",
    "- 这不是十分严格的时间序列数据 (没有周期性)，我估摸着这仅仅是人的心跳的其中一个周期，所以针对时间序列预测的技术可能并不很好发挥\n",
    "- 其实第 0 类样本数量最多，我估摸着这是正常人的心跳，而第 1、2、3 类应该是病人心跳。观察训练后的混淆矩阵容易知道，主要分类错误来自于将第 0 类错分为其他类 (误把正常人当病人)，这是一条潜在的改进线索\n",
    "- 找到好用的数据增强方式并不容易，而其实 SMOTE 这种插值方式本身就是一种\n",
    "- 提交结果之前先检查一下，不要一把梭就交上去了 ... \n",
    "- 需要强大的毅力和耐心，起落沉浮非常考验心态 T T"
   ]
  }
 ],
 "metadata": {
  "kernelspec": {
   "display_name": "Python 3",
   "language": "python",
   "name": "python3"
  },
  "language_info": {
   "codemirror_mode": {
    "name": "ipython",
    "version": 3
   },
   "file_extension": ".py",
   "mimetype": "text/x-python",
   "name": "python",
   "nbconvert_exporter": "python",
   "pygments_lexer": "ipython3",
   "version": "3.6.5"
  },
  "tianchi_metadata": {
   "competitions": [],
   "datasets": [],
   "description": "",
   "notebookId": "215559",
   "source": "dsw"
  }
 },
 "nbformat": 4,
 "nbformat_minor": 4
}
