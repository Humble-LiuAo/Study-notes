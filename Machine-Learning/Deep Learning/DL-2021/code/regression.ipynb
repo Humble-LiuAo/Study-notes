{
  "nbformat": 4,
  "nbformat_minor": 0,
  "metadata": {
    "colab": {
      "name": "regression.ipynb",
      "provenance": [],
      "toc_visible": true,
      "authorship_tag": "ABX9TyPuhgQ369nK9wl7fYGxFY/0",
      "include_colab_link": true
    },
    "kernelspec": {
      "name": "python3",
      "display_name": "Python 3"
    },
    "language_info": {
      "name": "python"
    },
    "accelerator": "GPU"
  },
  "cells": [
    {
      "cell_type": "markdown",
      "metadata": {
        "id": "view-in-github",
        "colab_type": "text"
      },
      "source": [
        "<a href=\"https://colab.research.google.com/github/Humble-LiuAo/Regression-HW1-/blob/main/regression.ipynb\" target=\"_parent\"><img src=\"https://colab.research.google.com/assets/colab-badge.svg\" alt=\"Open In Colab\"/></a>"
      ]
    },
    {
      "cell_type": "markdown",
      "metadata": {
        "id": "ByQGUy8VMvS8"
      },
      "source": [
        "#**Download Data**"
      ]
    },
    {
      "cell_type": "code",
      "metadata": {
        "colab": {
          "base_uri": "https://localhost:8080/"
        },
        "id": "mSEhwDNCM2IQ",
        "outputId": "7a9c691f-2305-43d8-ca7a-9b971a525e17"
      },
      "source": [
        "tr_path = 'covid.train.csv'  # path to training data\n",
        "tt_path = 'covid.test.csv'   # path to testing data\n",
        "\n",
        "!gdown --id '19CCyCgJrUxtvgZF53vnctJiOJ23T5mqF' --output covid.train.csv        #download\n",
        "!gdown --id '1CE240jLm2npU-tdz81-oVKEF3T2yfT1O' --output covid.test.csv\n",
        "\n",
        "import numpy as np      # linear algebra\n",
        "import pandas as pd       # data processing"
      ],
      "execution_count": 1,
      "outputs": [
        {
          "output_type": "stream",
          "name": "stdout",
          "text": [
            "Downloading...\n",
            "From: https://drive.google.com/uc?id=19CCyCgJrUxtvgZF53vnctJiOJ23T5mqF\n",
            "To: /content/covid.train.csv\n",
            "100% 2.00M/2.00M [00:00<00:00, 64.3MB/s]\n",
            "Downloading...\n",
            "From: https://drive.google.com/uc?id=1CE240jLm2npU-tdz81-oVKEF3T2yfT1O\n",
            "To: /content/covid.test.csv\n",
            "100% 651k/651k [00:00<00:00, 38.8MB/s]\n"
          ]
        }
      ]
    },
    {
      "cell_type": "code",
      "metadata": {
        "colab": {
          "base_uri": "https://localhost:8080/"
        },
        "id": "ktJodITATL9h",
        "outputId": "23ef5349-1849-4e15-9259-89bf8c931e4d"
      },
      "source": [
        "import os\n",
        "#for root, dirnames, filenames in os.walk('/content'):       # 遍历 return root dirnames filenames\n",
        "   # for filename in filenames:\n",
        "        #print(os.path.join(root,filename)) \n",
        "if os.path.exists('covid.test.csv') and os.path.exists('covid.train.csv'):\n",
        "    print('exist data')"
      ],
      "execution_count": 2,
      "outputs": [
        {
          "output_type": "stream",
          "name": "stdout",
          "text": [
            "exist data\n"
          ]
        }
      ]
    },
    {
      "cell_type": "markdown",
      "metadata": {
        "id": "E-v9GAhcVvnT"
      },
      "source": [
        "#**Import Some Packages**"
      ]
    },
    {
      "cell_type": "code",
      "metadata": {
        "id": "Gjnnfr3bVxwJ"
      },
      "source": [
        "# pytorch\n",
        "import torch\n",
        "import torch.nn as nn\n",
        "from torch.utils.data import Dataset, DataLoader\n",
        "\n",
        "# for data preprocess\n",
        "import numpy as np\n",
        "import csv\n",
        "import os\n",
        "\n",
        "# for plotting\n",
        "import matplotlib.pyplot as plt\n",
        "from matplotlib.pyplot import  figure\n",
        "\n",
        "myseed = 2020875 # set a random seed\n",
        "torch.backends.cudnn.deterministic = True   #if True, causes cuDNN to only use deterministic convolution algorithms.\n",
        "torch.backends.cudnn.benchmark = False      #  if True, causes cuDNN to benchmark(基准) multiple convolution algorithms and select the fastest.\n",
        "np.random.seed(myseed)\n",
        "torch.manual_seed(myseed)\n",
        "if torch.cuda.is_available():\n",
        "    torch.cuda.manual_seed_all(myseed)"
      ],
      "execution_count": 3,
      "outputs": []
    },
    {
      "cell_type": "code",
      "metadata": {
        "colab": {
          "base_uri": "https://localhost:8080/"
        },
        "id": "DFitud5XamKD",
        "outputId": "627854bf-92d3-47f6-d1ae-19ac08c6dac9"
      },
      "source": [
        "x2 = range(556)[::200]  # [::] function\n",
        "print(x2)\n",
        "for i in x2:\n",
        "    print(i)"
      ],
      "execution_count": 4,
      "outputs": [
        {
          "output_type": "stream",
          "name": "stdout",
          "text": [
            "range(0, 556, 200)\n",
            "0\n",
            "200\n",
            "400\n"
          ]
        }
      ]
    },
    {
      "cell_type": "markdown",
      "metadata": {
        "id": "iKBjGw2BZL_p"
      },
      "source": [
        "#**Some Utilities**"
      ]
    },
    {
      "cell_type": "code",
      "metadata": {
        "id": "ByZ3FHesZRo6"
      },
      "source": [
        "def get_device():\n",
        "    '''Get device'''\n",
        "    return 'cuda' if torch.cuda.is_available() else 'cpu'\n",
        "\n",
        "def plot_learning_curve(loss_record, title=''):\n",
        "    ''' Plot learning curve of your DNN (train & dev loss) '''\n",
        "    total_steps = len(loss_record['train'])\n",
        "    x_1 = range(total_steps)\n",
        "    x_2 = x_1[ : :len(loss_record['train']) // len(loss_record['dev'])] # //:整除\n",
        "    figure(figsize=(6, 4))\n",
        "    # Case-insensitive Tableau Colors from 'T10' categorical palette.\n",
        "    plt.plot(x_1, loss_record['train'], c='tab:red', label='train')\n",
        "    plt.plot(x_2, loss_record['dev'], c='tab:cyan', label='dev')\n",
        "    plt.ylim(0.0, 5.)\n",
        "    plt.xlabel('Training steps')\n",
        "    plt.ylabel('MSE loss')\n",
        "    plt.title('learning curve of {}'.format(title))\n",
        "    # Place a legend on the Axes.\n",
        "    plt.legend()\n",
        "    plt.show()\n",
        "\n",
        "\n",
        "def plot_pred(dv_set, modelm, device, lim=35., preds=None, targes=None):\n",
        "    '''Plot prediction of your DNN '''\n",
        "    if preds is None or targets is None:\n",
        "        model.eval()\n",
        "        preds, targets=[], []\n",
        "        for x, y in dv_set:\n",
        "            x, y = x.to(device), y.to(device)\n",
        "            with torch.no_grad():\n",
        "                pred = model(x)\n",
        "                # Returns a new Tensor, detached from the current graph.The result will never require gradient.  And to cpu\n",
        "                preds.append(pred.detach().cpu())\n",
        "                targets.append(y.detach().cpu())\n",
        "        # Cat: concatenate multiple tensors\n",
        "        preds = torch.cat(preds, dim=0).numpy()\n",
        "        targets = torch.cat(targets, dim=0).numpy()\n",
        "\n",
        "    figure(figsize=(5, 5))\n",
        "    # A scatter plot of y vs. x with varying marker size and/or color.\n",
        "    plt.scatter(targets, preds, c='r', alpha=0.5)   # The alpha blending value, between 0 (transparent) and 1 (opaque).\n",
        "    plt.plot([-0.2,lim], [-0.2, lim], c='b')\n",
        "    plt.xlim(-0.2, lim)\n",
        "    plt.ylim(-0.2, lim)\n",
        "    plt.xlabel('ground truth value')\n",
        "    plt.xlabel('ground truth value')\n",
        "    plt.title('Ground Truth v.s. Prediction')\n",
        "    plt.show()"
      ],
      "execution_count": 5,
      "outputs": []
    },
    {
      "cell_type": "code",
      "metadata": {
        "colab": {
          "base_uri": "https://localhost:8080/",
          "height": 283
        },
        "id": "RCsuqQ6w1WOY",
        "outputId": "8d62454e-aa23-47b9-d841-72b41dd78bc1"
      },
      "source": [
        "lim = 35\n",
        "plt.plot([-0.2,lim], [-0.2, lim], c='b')\n",
        "x = [5,6,5,41,2,0]\n",
        "y = [1,3,5,6,1,2]\n",
        "plt.scatter(x,y, c='r', alpha=0.5)\n",
        "plt.scatter(x,y, c='r', alpha=1)"
      ],
      "execution_count": 6,
      "outputs": [
        {
          "output_type": "execute_result",
          "data": {
            "text/plain": [
              "<matplotlib.collections.PathCollection at 0x7fd1966b2e90>"
            ]
          },
          "metadata": {},
          "execution_count": 6
        },
        {
          "output_type": "display_data",
          "data": {
            "image/png": "[encoded data removed]",
            "text/plain": [
              "<Figure size 432x288 with 1 Axes>"
            ]
          },
          "metadata": {
            "needs_background": "light"
          }
        }
      ]
    },
    {
      "cell_type": "markdown",
      "metadata": {
        "id": "eC7aM_uS4IzN"
      },
      "source": [
        "# **Preprocess**\n",
        "We have three kinds of datasets:\n",
        "* `train`: for training\n",
        "* `dev`: for validation\n",
        "* `test`: for testing (w/o target value)"
      ]
    },
    {
      "cell_type": "markdown",
      "metadata": {
        "id": "2isIY9in4iof"
      },
      "source": [
        "## **Dataset**\n",
        "\n",
        "The `COVID19Dataset` below does:\n",
        "* read `.csv` files\n",
        "* extract features\n",
        "* split `covid.train.csv` into train/dev sets\n",
        "* normalize features\n",
        "\n",
        "Finishing `TODO` below might make you pass medium baseline."
      ]
    },
    {
      "cell_type": "markdown",
      "metadata": {
        "id": "wKtpqBaH8Hz2"
      },
      "source": [
        "**特征选择**"
      ]
    },
    {
      "cell_type": "code",
      "metadata": {
        "colab": {
          "base_uri": "https://localhost:8080/"
        },
        "id": "a20ho8TIGenA",
        "outputId": "fbd9ad72-55c4-4311-e30f-e4484b26d430"
      },
      "source": [
        "import pandas as pd\n",
        "import numpy as np\n",
        "\n",
        "data = pd.read_csv('/content/covid.train.csv')\n",
        "x = data[data.columns[1:94]]\n",
        "y = data[data.columns[94]]\n",
        "\n",
        "# scikit learn \n",
        "from sklearn.feature_selection import SelectKBest\n",
        "from sklearn.feature_selection import f_regression\n",
        "\n",
        "from sklearn import preprocessing\n",
        "#  The minimum value for each column\n",
        "x = (x - x.min()) / (x.max() - x.min())\n",
        "\n",
        "# return object\n",
        "bestfeatures = SelectKBest(score_func=f_regression, k=5)\n",
        "#  fit-->train\n",
        "fit = bestfeatures.fit(x,y)\n",
        "# print(fit.scores_)\n",
        "dfscores = pd.DataFrame(fit.scores_)\n",
        "# print(dfscores)\n",
        "# print(x.columns) # return Index([......])\n",
        "dfcolumns = pd.DataFrame(x.columns)\n",
        "#concat two dataframes for better visualization \n",
        "featureScores = pd.concat([dfcolumns,dfscores],axis=1)\n",
        "# print(featureScores)\n",
        "featureScores.columns = ['Specs','Score']   #naming the dataframe columns\n",
        "# Return the first n rows with the largest values in columns, indescending order. \n",
        "print(featureScores.nlargest(15,'Score'))   #print 15 best features"
      ],
      "execution_count": 7,
      "outputs": [
        {
          "output_type": "stream",
          "name": "stdout",
          "text": [
            "                 Specs          Score\n",
            "75   tested_positive.1  148069.658278\n",
            "57     tested_positive   69603.872591\n",
            "42        hh_cmnty_cli    9235.492094\n",
            "60      hh_cmnty_cli.1    9209.019558\n",
            "78      hh_cmnty_cli.2    9097.375172\n",
            "43      nohh_cmnty_cli    8395.421300\n",
            "61    nohh_cmnty_cli.1    8343.255927\n",
            "79    nohh_cmnty_cli.2    8208.176435\n",
            "40                 cli    6388.906849\n",
            "58               cli.1    6374.548000\n",
            "76               cli.2    6250.008702\n",
            "41                 ili    5998.922880\n",
            "59               ili.1    5937.588576\n",
            "77               ili.2    5796.947672\n",
            "92  worried_finances.2     833.613191\n"
          ]
        }
      ]
    },
    {
      "cell_type": "code",
      "metadata": {
        "colab": {
          "base_uri": "https://localhost:8080/"
        },
        "id": "uUNT-vZ-8FQ2",
        "outputId": "faa09d86-fbda-4c11-acde-cb6bbd5bd875"
      },
      "source": [
        "# import numpy as np\n",
        "# import pandas as pd\n",
        "\n",
        "# data = pd.read_csv('/content/covid.train.csv')\n",
        "# x = data.columns[1:94]\n",
        "# x = data[data.columns[1:94]]\n",
        "# print(x.min())\n",
        "# x = (x - x.min()) / (x.max() - x.min())\n",
        "# print(x)\n",
        "# print(x.columns)\n",
        "from sklearn.datasets import load_digits\n",
        "from sklearn.feature_selection import SelectKBest, chi2\n",
        "X, y = load_digits(return_X_y=True)\n",
        "print(X.shape)\n",
        "X_new = SelectKBest(chi2, k=20).fit_transform(X, y)\n",
        "print(X_new.shape)"
      ],
      "execution_count": 8,
      "outputs": [
        {
          "output_type": "stream",
          "name": "stdout",
          "text": [
            "(1797, 64)\n",
            "(1797, 20)\n"
          ]
        }
      ]
    },
    {
      "cell_type": "code",
      "metadata": {
        "id": "_E3kGG7Z4jtM"
      },
      "source": [
        "# read-->select feats if test--> get data if  train/dev --> get data and target and respective indices\n",
        "# final convert torch.tensor\n",
        "class COVID19Dataset(Dataset):\n",
        "    '''Dataset for loading and preprocessing the COVID19 dataset '''\n",
        "    def __init__(self,\n",
        "                 path,\n",
        "                 mode='train',\n",
        "                 target_only =True):\n",
        "        self.mode = mode\n",
        "        # Read data into numpy arrays\n",
        "        with open(path, 'r') as fp:\n",
        "            #  read each row into list e.g. [[],[],[],....]\n",
        "            data = list(csv.reader(fp))\n",
        "            data = np.array(data[1:])[:, 1:].astype(float)\n",
        "            \n",
        "        # Forecast test positive for the third day\n",
        "        if not target_only:\n",
        "            feats = list(range(93))\n",
        "            # feats = list(range(1, 40)) + [57, 75]\n",
        "        else:\n",
        "            feats = [75, 57, 42, 60, 78, 43, 61, 79, 40, 58, 76, 41, 59, 77]    #上面挑选的最优特征\n",
        "        if mode == 'test':\n",
        "            # Testing data\n",
        "            # data: 893 x 93 (40 states + day 1 (18) + day 2 (18) + day 3 (17))\n",
        "            data = data[:, feats]\n",
        "            self.data = torch.FloatTensor(data)\n",
        "        else:\n",
        "            # Training data (train/dev sets)\n",
        "            # data: 2700 x 94 (40 states + day 1 (18) + day 2 (18) + day 3 (18))\n",
        "            target =data[:, -1]\n",
        "            data = data[:, feats]\n",
        "            # Splitting training data into train & dev sets\n",
        "            # 在确定参数后，使用所有数据进行训练，即训练集=验证集\n",
        "            if mode == 'train':\n",
        "                #indices = [i for i in range(len(data)) if i % 10 != 0]\n",
        "                indices = [i for i in range(len(data))]\n",
        "            elif mode == 'dev':\n",
        "                # indices = [i for i in range(len(data)) if i % 10 == 0]\n",
        "                indices = [i for i in range(len(data))]\n",
        "                # Convert data into PyTorch tensors\n",
        "            self.data = torch.FloatTensor(data[indices])\n",
        "            self.target = torch.FloatTensor(target[indices])\n",
        "            # Normalize features\n",
        "            # data = (data - mean) / std\n",
        "        self.data[:, 40:] = \\\n",
        "            (self.data[:, 40:] - self.data[:, 40:].mean(dim=0, keepdim=True)) \\\n",
        "            / self.data[:, 40:].std(dim=0, keepdim=True)\n",
        "\n",
        "        self.dim = self.data.shape[1]\n",
        "\n",
        "        print('Finished reading the {} set of COVID19 Dataset ({} samples found, each dim = {})'\n",
        "              .format(mode, len(self.data), self.dim))\n",
        "\n",
        "    def __getitem__(self,index):\n",
        "        # rerurn one sample at a time\n",
        "        if self.mode in ['train', 'dev']:\n",
        "            return self.data[index], self.target[index]\n",
        "        else:\n",
        "            # for testing(no target)\n",
        "            return self.data[index]\n",
        "\n",
        "    def __len__(self):\n",
        "        # return the size of the dataset\n",
        "        return len(self.data)"
      ],
      "execution_count": 9,
      "outputs": []
    },
    {
      "cell_type": "code",
      "metadata": {
        "colab": {
          "base_uri": "https://localhost:8080/"
        },
        "id": "3ykJp0EN6Bie",
        "outputId": "61e34109-9398-4c16-e253-17199554cf56"
      },
      "source": [
        "# with open('/content/covid.train.csv', 'r') as fp:\n",
        "#         #  read each row into list e.g. [[],[],[],....]\n",
        "#         data = list(csv.reader(fp))\n",
        "#         data = np.array(data[1:])[:, 1:].astype(float)\n",
        "#         data = torch.FloatTensor(data)\n",
        "#         print(data)\n",
        "#         a = data[:,40:].mean(dim=0,keepdim=True)\n",
        "#         print(a)\n",
        "#         print(a.shape)\n",
        "data = torch.randn(4,5)\n",
        "print(data)\n",
        "mean = data.mean(dim=0,keepdim=True)\n",
        "print(mean)\n",
        "# data = data -mean\n",
        "data = data/mean\n",
        "print(data)"
      ],
      "execution_count": 10,
      "outputs": [
        {
          "output_type": "stream",
          "name": "stdout",
          "text": [
            "tensor([[ 0.1364, -0.5031, -0.7150,  0.3920,  0.2633],\n",
            "        [-0.0767, -1.9232, -0.6323, -0.2896,  0.4500],\n",
            "        [-0.8540,  0.3538,  0.5961,  0.1761,  0.9778],\n",
            "        [-1.2692, -0.3051, -0.5610, -0.8085, -0.8379]])\n",
            "tensor([[-0.5158, -0.5944, -0.3280, -0.1325,  0.2133]])\n",
            "tensor([[-0.2645,  0.8465,  2.1796, -2.9587,  1.2344],\n",
            "        [ 0.1486,  3.2355,  1.9275,  2.1858,  2.1097],\n",
            "        [ 1.6555, -0.5953, -1.8173, -1.3294,  4.5839],\n",
            "        [ 2.4603,  0.5133,  1.7101,  6.1023, -3.9279]])\n"
          ]
        }
      ]
    },
    {
      "cell_type": "markdown",
      "metadata": {
        "id": "idBaDhttLpis"
      },
      "source": [
        "## **DataLoader**\n",
        "\n",
        "A `DataLoader` loads data from a given `Dataset` into batches.\n"
      ]
    },
    {
      "cell_type": "code",
      "metadata": {
        "id": "bqoscHy1LqPp"
      },
      "source": [
        "def prep_dataloader(path, mode, batch_size, n_jobs=0, target_only=False):\n",
        "    '''Generates a dataset, then is put into a dataloader'''\n",
        "    dataset = COVID19Dataset(path, mode=mode, target_only=target_only)      # Construct dataset\n",
        "    # num_workers (int, optional) – how many subprocesses to use for data loading.\n",
        "    # pin_memory (bool, optional) – If True, the data loader will copy Tensors into CUDA pinned memory before returning them.\n",
        "    # drop_last (bool, optional) – set to True to drop the last incomplete batch, if the dataset size is not divisible by the batch size\n",
        "    dataloader = DataLoader(\n",
        "        dataset,batch_size,\n",
        "        shuffle=(mode == 'train'),drop_last = False,\n",
        "        num_workers=n_jobs,pin_memory=True)\n",
        "    return dataloader"
      ],
      "execution_count": 11,
      "outputs": []
    },
    {
      "cell_type": "markdown",
      "metadata": {
        "id": "vVtqDK1eOXQQ"
      },
      "source": [
        "# **Deep Neural Network**\n",
        "\n",
        "`NeuralNet` is an `nn.Module` designed for regression.\n",
        "The DNN consists of 2 fully-connected layers with ReLU activation.\n",
        "This module also included a function `cal_loss` for calculating loss.\n"
      ]
    },
    {
      "cell_type": "code",
      "metadata": {
        "id": "cCBKxwvROX-Q"
      },
      "source": [
        "class NeuralNet(nn.Module):\n",
        "    ''' A simple fully-connected deep neural network '''\n",
        "    def __init__(self, input_dim):\n",
        "        super(NeuralNet, self).__init__()\n",
        "\n",
        "        # Define neural network here\n",
        "        self.net = nn.Sequential(\n",
        "            nn.Linear(input_dim, 32),    # Fully connected network\n",
        "            nn.BatchNorm1d(32),         # Batch Normalization(0,1): Accelerating Deep Network Training by Reducing Internal Covariate Shift .\n",
        "            nn.Dropout(p = 0.2),         # During training, randomly zeroes some of the elements of the input tensor with probability p using samples from a Bernoulli distribution 减少过拟合\n",
        "            nn.LeakyReLU(),                 # relu activation\n",
        "            nn.Linear(32, 1)\n",
        "        )\n",
        "        # Mean squared error loss\n",
        "        self.criterion = nn.MSELoss(reduction='mean') #'mean': the sum of the output will be divided by the number of elements in the output\n",
        "        #self.criterion = nn.SmoothL1Loss(size_average=True)\n",
        "    def forward(self, x):\n",
        "        ''' Given input of size (batch_size x input_dim), compute output of the network '''\n",
        "        return self.net(x).squeeze(1)   # Delete the 1 - dimensional at the location\n",
        "    \n",
        "    def cal_loss(self, pred, target):\n",
        "        '''Calculate loss'''\n",
        "        regularization_loss = 0 # 正则项损失\n",
        "        for param in model.parameters():\n",
        "            # may implement L1/L2 regularization here\n",
        "            # 使用L2正则项\n",
        "            # regularization_loss += torch.sum(abs(param))\n",
        "            regularization_loss += torch.sum(param ** 2)\n",
        "        return self.criterion(pred, target) + 0.00075 * regularization_loss"
      ],
      "execution_count": 12,
      "outputs": []
    },
    {
      "cell_type": "code",
      "metadata": {
        "colab": {
          "base_uri": "https://localhost:8080/"
        },
        "id": "7VdTQMYvUxTC",
        "outputId": "b4f94cc4-64dd-41ab-a49b-626a487c79fd"
      },
      "source": [
        "x =torch.randn(5,3,1)\n",
        "print(x)\n",
        "print(x.squeeze(2))"
      ],
      "execution_count": 13,
      "outputs": [
        {
          "output_type": "stream",
          "name": "stdout",
          "text": [
            "tensor([[[ 0.8384],\n",
            "         [ 2.0670],\n",
            "         [-2.2105]],\n",
            "\n",
            "        [[ 1.5372],\n",
            "         [ 0.8064],\n",
            "         [ 0.1125]],\n",
            "\n",
            "        [[-0.0481],\n",
            "         [ 0.2121],\n",
            "         [-1.1779]],\n",
            "\n",
            "        [[ 0.1820],\n",
            "         [ 1.1300],\n",
            "         [ 1.1597]],\n",
            "\n",
            "        [[-0.7250],\n",
            "         [ 0.5542],\n",
            "         [ 0.6110]]])\n",
            "tensor([[ 0.8384,  2.0670, -2.2105],\n",
            "        [ 1.5372,  0.8064,  0.1125],\n",
            "        [-0.0481,  0.2121, -1.1779],\n",
            "        [ 0.1820,  1.1300,  1.1597],\n",
            "        [-0.7250,  0.5542,  0.6110]])\n"
          ]
        }
      ]
    },
    {
      "cell_type": "markdown",
      "metadata": {
        "id": "pIbiuWLoatGd"
      },
      "source": [
        "# **Train/Dev/Test**\n",
        "\n",
        "1.  each epoch : use tr_set accomplish optim-->use dv_set find out mse_loss and contrast\n",
        "2. use loss_record{'train' [], 'dv': []} to record process\n",
        "\n"
      ]
    },
    {
      "cell_type": "markdown",
      "metadata": {
        "id": "f1ekq3C8jGmv"
      },
      "source": [
        "## **Training**\n"
      ]
    },
    {
      "cell_type": "code",
      "metadata": {
        "id": "fD1d4mrOjIzc"
      },
      "source": [
        "# epoch:  train -->optim dv-->output loss // record: loss_record = {'train': [], 'dev': []}\n",
        "def train(tr_set, dv_set, model, comfig, device):\n",
        "    '''DNN  training'''\n",
        "    n_epochs = config['n_epochs']  # Maximum number of epochs\n",
        "\n",
        "    # Setup optimizer\n",
        "    # getattr: Return the value of the named attribute of object.\n",
        "    # *不定长参数 **关键字参数\n",
        "    optimizer = getattr(torch.optim, config['optimizer'])(\n",
        "        model.parameters(), **config['optim_hparas'])   # model.parameters:  should be optimized/ default\n",
        "\n",
        "    min_mse = 1000. # initial mse\n",
        "    loss_record = {'train': [], 'dev': []}  # for recording training loss\n",
        "    early_stop_cnt = 0\n",
        "    epoch = 0\n",
        "\n",
        "    while epoch < n_epochs:\n",
        "        model.train()                                    # set model to training mode\n",
        "        for x, y in tr_set:                                  # iterate through the dataloader\n",
        "           optimizer.zero_grad()                       # set gradient to zero\n",
        "           x, y = x.to(device), y.to(device)          # move data to device (cpu/cuda)\n",
        "           pred = model(x)                              # forward pass (compute output)\n",
        "           mse_loss = model.cal_loss(pred, y)   # compute loss\n",
        "           mse_loss.backward()                      # compute gradient (backpropagation)\n",
        "           optimizer.step()                                 # update model with optimizer\n",
        "           loss_record['train'].append(mse_loss.detach().cpu().item())  # item(): Returns the value of this tensor as a standard Python number.\n",
        "           # only one element tensors can convert p number\n",
        "\n",
        "        # After each epoch, test your model on the validation (development) set.\n",
        "        dev_mse = dev(dv_set, model, device)\n",
        "        if dev_mse < min_mse:\n",
        "            # Save model if your model improved\n",
        "            min_mse = dev_mse\n",
        "            print('Saving model (epoch = {:4d}, loss = {:.4f})'.format(epoch+1, min_mse))\n",
        "            # state_dict(): Returns a dictionary containing a whole state of the module.\n",
        "            torch.save(model.state_dict(), config['save_path'])             # Save model to specified path\n",
        "            early_stop_cnt = 0\n",
        "        else:\n",
        "            early_stop_cnt += 1\n",
        "\n",
        "        epoch += 1\n",
        "        loss_record['dev'].append(dev_mse)\n",
        "        if early_stop_cnt > config['early_stop']:\n",
        "            # Stop training if model stops improving for \"config['early_stop']\" epochs.\n",
        "            break\n",
        "        \n",
        "    print('Finished training after {} epochs'.format(epoch))\n",
        "    return min_mse, loss_record"
      ],
      "execution_count": 14,
      "outputs": []
    },
    {
      "cell_type": "markdown",
      "metadata": {
        "id": "5bOWilcRQ3t9"
      },
      "source": [
        "## **Validation**\n",
        "\n",
        "\n",
        "1. Find out the total loss for each batch size and accumulate \n",
        "2.   total loss/ len(dv_set.dataset)\n",
        "\n"
      ]
    },
    {
      "cell_type": "code",
      "metadata": {
        "id": "2kMNcMStQ_DK"
      },
      "source": [
        "def dev(dv_set, model, device):\n",
        "    model.eval()        # set model to evaluation mode\n",
        "    total_loss = 0\n",
        "    for x, y in dv_set:         # iterate through the dataloader\n",
        "        x, y = x.to(device), y.to(device)       # move data to device (cpu/cuda)\n",
        "        with torch.no_grad():           # disable gradient calculation \n",
        "            pred = model(x)             # forward pass (compute output)\n",
        "            mse_loss = model.cal_loss(pred, y)   # compute loss\n",
        "        total_loss += mse_loss.detach().cpu().item()*len(x)        # accumulate loss  *batch size\n",
        "    total_loss = total_loss/len(dv_set.dataset)         # compute averaged loss\n",
        "    return total_loss"
      ],
      "execution_count": 15,
      "outputs": []
    },
    {
      "cell_type": "markdown",
      "metadata": {
        "id": "jq2_SrudSa_a"
      },
      "source": [
        "## **Testing**"
      ]
    },
    {
      "cell_type": "code",
      "metadata": {
        "id": "hxD3ckorSb0l"
      },
      "source": [
        "def test(tt_set, model, device):\n",
        "    model.eval()            # set model to evalutation mode\n",
        "    preds = []\n",
        "    for x in tt_set:            # iterate through the dataloader\n",
        "        x = x.to(device)            # move data to device (cpu/cuda)\n",
        "        with torch.no_grad():       # disable gradient calculation\n",
        "            pred = model(x)             # forward pass (compute output)\n",
        "            preds.append(pred.detach().cpu())   # collect prediction\n",
        "    preds = torch.cat(preds, dim=0).numpy()  # concatenate all predictions and convert to a numpy array\n",
        "    # dim= 0 cat-->893*1\n",
        "    return preds"
      ],
      "execution_count": 16,
      "outputs": []
    },
    {
      "cell_type": "markdown",
      "metadata": {
        "id": "ICMZZ1n_WqGO"
      },
      "source": [
        "# **Setup Hyper-parameters**\n",
        "\n",
        "`config` contains hyper-parameters for training and the path to save your model."
      ]
    },
    {
      "cell_type": "code",
      "metadata": {
        "id": "JKHrI4lOWBLl"
      },
      "source": [
        "device = get_device()\n",
        "os.makedirs('models', exist_ok=True)        # If exist_ok is False (the default), an FileExistsError is raised if the target directory already exists.\n",
        "target_only = False\n",
        "# Set hyper-parameters to improve  model's performance\n",
        "config = {\n",
        "    'n_epochs': 10000,        # maximum number of epochs for train\n",
        "    'batch_size': 200,          # mini_batch size for dataloader\n",
        "    'optimizer': 'Adam',         # optimization algorithm (optimizer in torch.optim)\n",
        "    # use default paras\n",
        "    'optim_hparas':{        # hyper-parameters for the optimizer (depends on which optimizer you are using)\n",
        "      #'lr': 0.001,                 # learning rate of Adam\n",
        "       #'momentum': 0.9,     # momentum for Adam\n",
        "        # 'weight_decay': 5e-4\n",
        "    },\n",
        "    'early_stop': 500,        # early stopping epochs (the number epochs since your model's last improvement)\n",
        "     'save_path': 'models/model.pth'  # your model will be saved here\n",
        "}"
      ],
      "execution_count": 17,
      "outputs": []
    },
    {
      "cell_type": "markdown",
      "metadata": {
        "id": "N7rUe60nZr3_"
      },
      "source": [
        "# **Load data and model**"
      ]
    },
    {
      "cell_type": "code",
      "metadata": {
        "colab": {
          "base_uri": "https://localhost:8080/"
        },
        "id": "crvtLiiLZuHl",
        "outputId": "ff7b8d72-ca41-4c30-8afb-8cfab7f149ab"
      },
      "source": [
        "tr_set =prep_dataloader(tr_path, 'train', config['batch_size'], target_only=target_only)\n",
        "dv_set = prep_dataloader(tr_path, 'dev', config['batch_size'], target_only=target_only)\n",
        "tt_set = prep_dataloader(tt_path, 'test', config['batch_size'], target_only=target_only)"
      ],
      "execution_count": 18,
      "outputs": [
        {
          "output_type": "stream",
          "name": "stdout",
          "text": [
            "Finished reading the train set of COVID19 Dataset (2700 samples found, each dim = 93)\n",
            "Finished reading the dev set of COVID19 Dataset (2700 samples found, each dim = 93)\n",
            "Finished reading the test set of COVID19 Dataset (893 samples found, each dim = 93)\n"
          ]
        }
      ]
    },
    {
      "cell_type": "code",
      "metadata": {
        "id": "LTvIfJglhd8Q"
      },
      "source": [
        "model = NeuralNet(tr_set.dataset.dim).to(device) # Construct model and move to device"
      ],
      "execution_count": 19,
      "outputs": []
    },
    {
      "cell_type": "code",
      "metadata": {
        "colab": {
          "base_uri": "https://localhost:8080/"
        },
        "id": "jibxGcnIkjUY",
        "outputId": "46766f63-05b2-4f64-81ff-954acf46d6ed"
      },
      "source": [
        "# batch size \n",
        "for x, y in tr_set:\n",
        "        x, y=x.to(device), y.to(device)\n",
        "        print(len(x))\n",
        "        pred = model(x)                              # forward pass (compute output)\n",
        "        mse_loss = model.cal_loss(pred, y)   # compute loss\n",
        "        print(len(pred))\n",
        "        print(mse_loss)\n",
        "        "
      ],
      "execution_count": 20,
      "outputs": [
        {
          "output_type": "stream",
          "name": "stdout",
          "text": [
            "200\n",
            "200\n",
            "tensor(316.3053, device='cuda:0', grad_fn=<AddBackward0>)\n",
            "200\n",
            "200\n",
            "tensor(318.1369, device='cuda:0', grad_fn=<AddBackward0>)\n",
            "200\n",
            "200\n",
            "tensor(295.3010, device='cuda:0', grad_fn=<AddBackward0>)\n",
            "200\n",
            "200\n",
            "tensor(323.3778, device='cuda:0', grad_fn=<AddBackward0>)\n",
            "200\n",
            "200\n",
            "tensor(325.7643, device='cuda:0', grad_fn=<AddBackward0>)\n",
            "200\n",
            "200\n",
            "tensor(312.3527, device='cuda:0', grad_fn=<AddBackward0>)\n",
            "200\n",
            "200\n",
            "tensor(307.6223, device='cuda:0', grad_fn=<AddBackward0>)\n",
            "200\n",
            "200\n",
            "tensor(325.0182, device='cuda:0', grad_fn=<AddBackward0>)\n",
            "200\n",
            "200\n",
            "tensor(346.8696, device='cuda:0', grad_fn=<AddBackward0>)\n",
            "200\n",
            "200\n",
            "tensor(333.9899, device='cuda:0', grad_fn=<AddBackward0>)\n",
            "200\n",
            "200\n",
            "tensor(306.8732, device='cuda:0', grad_fn=<AddBackward0>)\n",
            "200\n",
            "200\n",
            "tensor(351.3362, device='cuda:0', grad_fn=<AddBackward0>)\n",
            "200\n",
            "200\n",
            "tensor(307.4668, device='cuda:0', grad_fn=<AddBackward0>)\n",
            "100\n",
            "100\n",
            "tensor(358.6977, device='cuda:0', grad_fn=<AddBackward0>)\n"
          ]
        }
      ]
    },
    {
      "cell_type": "markdown",
      "metadata": {
        "id": "XrpzhOpGh19u"
      },
      "source": [
        "# **Start Training!**\n",
        "\n"
      ]
    },
    {
      "cell_type": "code",
      "metadata": {
        "colab": {
          "base_uri": "https://localhost:8080/"
        },
        "id": "KVvs_PXSh2-H",
        "outputId": "5e5560c3-95e7-4217-8f6c-dc5b990f2750"
      },
      "source": [
        "model_loss, model_loss_record = train(tr_set, dv_set, model, config, device)"
      ],
      "execution_count": 21,
      "outputs": [
        {
          "output_type": "stream",
          "name": "stdout",
          "text": [
            "Saving model (epoch =    1, loss = 306.5018)\n",
            "Saving model (epoch =    2, loss = 289.8238)\n",
            "Saving model (epoch =    3, loss = 277.5685)\n",
            "Saving model (epoch =    4, loss = 269.3286)\n",
            "Saving model (epoch =    5, loss = 260.5027)\n",
            "Saving model (epoch =    6, loss = 250.1268)\n",
            "Saving model (epoch =    7, loss = 239.8289)\n",
            "Saving model (epoch =    8, loss = 230.3675)\n",
            "Saving model (epoch =    9, loss = 218.0973)\n",
            "Saving model (epoch =   10, loss = 206.2140)\n",
            "Saving model (epoch =   11, loss = 193.8723)\n",
            "Saving model (epoch =   12, loss = 183.4781)\n",
            "Saving model (epoch =   13, loss = 172.5012)\n",
            "Saving model (epoch =   14, loss = 158.3388)\n",
            "Saving model (epoch =   15, loss = 145.8008)\n",
            "Saving model (epoch =   16, loss = 134.8515)\n",
            "Saving model (epoch =   17, loss = 123.6831)\n",
            "Saving model (epoch =   18, loss = 111.7418)\n",
            "Saving model (epoch =   19, loss = 103.6647)\n",
            "Saving model (epoch =   20, loss = 92.2775)\n",
            "Saving model (epoch =   21, loss = 81.5850)\n",
            "Saving model (epoch =   22, loss = 73.8991)\n",
            "Saving model (epoch =   23, loss = 63.9895)\n",
            "Saving model (epoch =   24, loss = 56.8942)\n",
            "Saving model (epoch =   25, loss = 51.2461)\n",
            "Saving model (epoch =   26, loss = 45.6383)\n",
            "Saving model (epoch =   27, loss = 37.8874)\n",
            "Saving model (epoch =   28, loss = 34.5375)\n",
            "Saving model (epoch =   29, loss = 28.2319)\n",
            "Saving model (epoch =   30, loss = 25.1205)\n",
            "Saving model (epoch =   31, loss = 21.7870)\n",
            "Saving model (epoch =   32, loss = 18.3110)\n",
            "Saving model (epoch =   33, loss = 15.0373)\n",
            "Saving model (epoch =   34, loss = 13.3625)\n",
            "Saving model (epoch =   35, loss = 11.7401)\n",
            "Saving model (epoch =   36, loss = 9.1218)\n",
            "Saving model (epoch =   37, loss = 7.1571)\n",
            "Saving model (epoch =   38, loss = 5.8292)\n",
            "Saving model (epoch =   39, loss = 5.5839)\n",
            "Saving model (epoch =   40, loss = 4.7084)\n",
            "Saving model (epoch =   41, loss = 4.1464)\n",
            "Saving model (epoch =   42, loss = 3.6134)\n",
            "Saving model (epoch =   43, loss = 3.0189)\n",
            "Saving model (epoch =   46, loss = 2.2134)\n",
            "Saving model (epoch =   48, loss = 2.0711)\n",
            "Saving model (epoch =   50, loss = 1.9071)\n",
            "Saving model (epoch =   51, loss = 1.8239)\n",
            "Saving model (epoch =   52, loss = 1.7546)\n",
            "Saving model (epoch =   54, loss = 1.6551)\n",
            "Saving model (epoch =   55, loss = 1.5697)\n",
            "Saving model (epoch =   56, loss = 1.5686)\n",
            "Saving model (epoch =   59, loss = 1.4453)\n",
            "Saving model (epoch =   61, loss = 1.4441)\n",
            "Saving model (epoch =   63, loss = 1.3566)\n",
            "Saving model (epoch =   66, loss = 1.3050)\n",
            "Saving model (epoch =   70, loss = 1.2247)\n",
            "Saving model (epoch =   84, loss = 1.2219)\n",
            "Saving model (epoch =   88, loss = 1.2145)\n",
            "Saving model (epoch =   95, loss = 1.1948)\n",
            "Saving model (epoch =  102, loss = 1.1354)\n",
            "Saving model (epoch =  114, loss = 1.1198)\n",
            "Saving model (epoch =  115, loss = 1.0975)\n",
            "Saving model (epoch =  127, loss = 1.0739)\n",
            "Saving model (epoch =  129, loss = 1.0726)\n",
            "Saving model (epoch =  137, loss = 1.0676)\n",
            "Saving model (epoch =  143, loss = 1.0471)\n",
            "Saving model (epoch =  159, loss = 1.0402)\n",
            "Saving model (epoch =  173, loss = 1.0259)\n",
            "Saving model (epoch =  197, loss = 0.9947)\n",
            "Saving model (epoch =  200, loss = 0.9824)\n",
            "Saving model (epoch =  221, loss = 0.9772)\n",
            "Saving model (epoch =  253, loss = 0.9723)\n",
            "Saving model (epoch =  276, loss = 0.9663)\n",
            "Saving model (epoch =  282, loss = 0.9503)\n",
            "Saving model (epoch =  386, loss = 0.9474)\n",
            "Saving model (epoch =  422, loss = 0.9373)\n",
            "Saving model (epoch =  449, loss = 0.9339)\n",
            "Saving model (epoch =  539, loss = 0.9131)\n",
            "Saving model (epoch =  617, loss = 0.9086)\n",
            "Saving model (epoch =  704, loss = 0.9034)\n",
            "Saving model (epoch =  707, loss = 0.8986)\n",
            "Saving model (epoch =  727, loss = 0.8966)\n",
            "Saving model (epoch =  815, loss = 0.8875)\n",
            "Saving model (epoch =  816, loss = 0.8780)\n",
            "Saving model (epoch =  905, loss = 0.8690)\n",
            "Saving model (epoch =  933, loss = 0.8689)\n",
            "Saving model (epoch =  940, loss = 0.8678)\n",
            "Saving model (epoch =  966, loss = 0.8611)\n",
            "Saving model (epoch = 1017, loss = 0.8579)\n",
            "Saving model (epoch = 1192, loss = 0.8512)\n",
            "Saving model (epoch = 1224, loss = 0.8473)\n",
            "Finished training after 1725 epochs\n"
          ]
        }
      ]
    },
    {
      "cell_type": "code",
      "metadata": {
        "id": "AOU-D1QQ0EPR"
      },
      "source": [
        "# print(model_loss_record['train'])\n",
        "# print(model_loss_record['dev'])"
      ],
      "execution_count": 22,
      "outputs": []
    },
    {
      "cell_type": "code",
      "metadata": {
        "colab": {
          "base_uri": "https://localhost:8080/",
          "height": 295
        },
        "id": "8Ql4G3iarVl9",
        "outputId": "3b55f407-c108-4243-d915-035e233c5c4b"
      },
      "source": [
        "plot_learning_curve(model_loss_record, title='deep model')"
      ],
      "execution_count": 23,
      "outputs": [
        {
          "output_type": "display_data",
          "data": {
            "image/png": "[encoded data removed]",
            "text/plain": [
              "<Figure size 432x288 with 1 Axes>"
            ]
          },
          "metadata": {
            "needs_background": "light"
          }
        }
      ]
    },
    {
      "cell_type": "code",
      "metadata": {
        "colab": {
          "base_uri": "https://localhost:8080/",
          "height": 350
        },
        "id": "BgfiJiKj6N0Y",
        "outputId": "e4f9be8e-9672-4553-c65c-c7369edba80d"
      },
      "source": [
        "del model   # delete model\n",
        "model = NeuralNet(tr_set.dataset.dim).to(device)\n",
        "ckpt = torch.load(config['save_path'], map_location='cpu')  # Load your best model      ckpt = checkpoint(检查点)\n",
        "model.load_state_dict(ckpt)         # #将 model(train )中的参数加载到 model(test) 中 \n",
        "plot_pred(dv_set, model, device)  # Show prediction on the validation set"
      ],
      "execution_count": 24,
      "outputs": [
        {
          "output_type": "display_data",
          "data": {
            "image/png": "[encoded data removed]",
            "text/plain": [
              "<Figure size 360x360 with 1 Axes>"
            ]
          },
          "metadata": {
            "needs_background": "light"
          }
        }
      ]
    },
    {
      "cell_type": "code",
      "metadata": {
        "colab": {
          "base_uri": "https://localhost:8080/"
        },
        "id": "LxMeKlhe6rfp",
        "outputId": "41c52c94-cd8c-4960-f4e6-6656909175b0"
      },
      "source": [
        "def save_pred(preds, file):\n",
        "    ''' Save predictions to specified file '''\n",
        "    print('Saving results to {}'.format(file))\n",
        "    with open(file, 'w') as fp:\n",
        "        writer = csv.writer(fp)     # return obj\n",
        "        writer.writerow(['id', 'tested_positive'])  # Write the row parameter to the writer’s file object,\n",
        "        for i, p in enumerate(preds):\n",
        "            writer.writerow([i, p])\n",
        "\n",
        "preds = test(tt_set, model, device)  # predict COVID-19 cases with your model\n",
        "# print(preds)\n",
        "save_pred(preds, 'pred.csv')         # save prediction file to pred.csv"
      ],
      "execution_count": 25,
      "outputs": [
        {
          "output_type": "stream",
          "name": "stdout",
          "text": [
            "Saving results to pred.csv\n"
          ]
        }
      ]
    },
    {
      "cell_type": "code",
      "metadata": {
        "colab": {
          "base_uri": "https://localhost:8080/"
        },
        "id": "W2CCSa4mcFJJ",
        "outputId": "f693dec8-e366-4e28-ef9c-e7b8f269c367"
      },
      "source": [
        "dict = {'a', 'sd', 'd'}\n",
        "for i, p in enumerate(dict):\n",
        "    print([i,p])"
      ],
      "execution_count": 26,
      "outputs": [
        {
          "output_type": "stream",
          "name": "stdout",
          "text": [
            "[0, 'a']\n",
            "[1, 'd']\n",
            "[2, 'sd']\n"
          ]
        }
      ]
    },
    {
      "cell_type": "markdown",
      "metadata": {
        "id": "gkPlhVWujlIZ"
      },
      "source": [
        "# **Reference**\n",
        "This code is completely written by Heng-Jui Chang @ NTUEE.  \n",
        "Copying or reusing this code is required to specify the original author. \n",
        "\n",
        "E.g.  \n",
        "Source: Heng-Jui Chang @ NTUEE (https://github.com/ga642381/ML2021-Spring/blob/main/HW01/HW01.ipynb)\n"
      ]
    }
  ]
}
