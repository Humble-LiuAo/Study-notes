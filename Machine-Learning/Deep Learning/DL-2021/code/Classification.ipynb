{
  "nbformat": 4,
  "nbformat_minor": 0,
  "metadata": {
    "colab": {
      "name": "Classification.ipynb",
      "provenance": [],
      "collapsed_sections": [],
      "authorship_tag": "ABX9TyN6du+81eHkdJSDhC3jbZ1I",
      "include_colab_link": true
    },
    "kernelspec": {
      "name": "python3",
      "display_name": "Python 3"
    },
    "language_info": {
      "name": "python"
    },
    "accelerator": "GPU"
  },
  "cells": [
    {
      "cell_type": "markdown",
      "metadata": {
        "id": "view-in-github",
        "colab_type": "text"
      },
      "source": [
        "<a href=\"https://colab.research.google.com/github/Humble-LiuAo/ML-2021/blob/main/Classification.ipynb\" target=\"_parent\"><img src=\"https://colab.research.google.com/assets/colab-badge.svg\" alt=\"Open In Colab\"/></a>"
      ]
    },
    {
      "cell_type": "markdown",
      "metadata": {
        "id": "injMaELIzOHf"
      },
      "source": [
        "## Download Data\n",
        "Download data from google drive, then unzip it.\n",
        "\n",
        "You should have `timit_11/train_11.npy`, `timit_11/train_label_11.npy`, and `timit_11/test_11.npy` after running this block.<br><br>\n",
        "`timit_11/`\n",
        "- `train_11.npy`: training data<br>\n",
        "- `train_label_11.npy`: training label<br>\n",
        "- `test_11.npy`:  testing data<br><br>\n",
        "\n",
        "**notes: if the google drive link is dead, you can download the data directly from Kaggle and upload it to the workspace**\n",
        "\n",
        "\n"
      ]
    },
    {
      "cell_type": "code",
      "metadata": {
        "colab": {
          "base_uri": "https://localhost:8080/"
        },
        "id": "tI_90n33zM0s",
        "outputId": "8d87d7bc-fc2f-47c0-ebf3-9156d6060d45"
      },
      "source": [
        "!gdown --id '1HPkcmQmFGu-3OknddKIa5dNDsR05lIQR' --output data.zip\n",
        "!unzip data.zip\n",
        "!ls "
      ],
      "execution_count": 1,
      "outputs": [
        {
          "output_type": "stream",
          "name": "stdout",
          "text": [
            "Downloading...\n",
            "From: https://drive.google.com/uc?id=1HPkcmQmFGu-3OknddKIa5dNDsR05lIQR\n",
            "To: /content/data.zip\n",
            "372MB [00:02, 167MB/s]\n",
            "Archive:  data.zip\n",
            "   creating: timit_11/\n",
            "  inflating: timit_11/train_11.npy   \n",
            "  inflating: timit_11/test_11.npy    \n",
            "  inflating: timit_11/train_label_11.npy  \n",
            "data.zip  sample_data  timit_11\n"
          ]
        }
      ]
    },
    {
      "cell_type": "markdown",
      "metadata": {
        "id": "K6keu7jF0Fod"
      },
      "source": [
        "## Preparing Data\n",
        "Load the training and testing data from the `.npy` file (NumPy array)."
      ]
    },
    {
      "cell_type": "code",
      "metadata": {
        "colab": {
          "base_uri": "https://localhost:8080/"
        },
        "id": "LNeK3dR90GtA",
        "outputId": "e9aa0603-70c4-4eb3-f9e4-bb7a80170a9c"
      },
      "source": [
        "import numpy as np\n",
        "\n",
        "print(\"Loading data\")\n",
        "data_root='./timit_11/'\n",
        "train = np.load(data_root+'train_11.npy')\n",
        "train_label = np.load(data_root+'train_label_11.npy')\n",
        "test = np.load(data_root+'test_11.npy')\n",
        "\n",
        "print(\"Size of training data: {}\".format(train.shape))\n",
        "print(\"Size of train_label data: {}\".format(train_label.shape))\n",
        "print(\"Size of testing data: {}\".format(test.shape))"
      ],
      "execution_count": 2,
      "outputs": [
        {
          "output_type": "stream",
          "name": "stdout",
          "text": [
            "Loading data\n",
            "Size of training data: (1229932, 429)\n",
            "Size of train_label data: (1229932,)\n",
            "Size of testing data: (451552, 429)\n"
          ]
        }
      ]
    },
    {
      "cell_type": "markdown",
      "metadata": {
        "id": "2X6R792f1l7X"
      },
      "source": [
        "## Create Dataset"
      ]
    },
    {
      "cell_type": "code",
      "metadata": {
        "id": "6iCoK1cx1n1a"
      },
      "source": [
        "import torch\n",
        "from torch.utils.data import Dataset\n",
        "\n",
        "class TIMIDataset(Dataset):\n",
        "    def __init__(self,X,y=None):\n",
        "        self.data = torch.from_numpy(X).float()\n",
        "        if y is not None:\n",
        "            y = y.astype(np.int)\n",
        "            self.label = torch.LongTensor(y)\n",
        "        else:\n",
        "            self.label = None\n",
        "\n",
        "    def __getitem__(self,idx):\n",
        "        if self.label is not None:\n",
        "            return self.data[idx], self.label[idx]\n",
        "        else:\n",
        "            return self.data[idx]\n",
        "\n",
        "    def __len__(self):\n",
        "        return len(self.data)\n"
      ],
      "execution_count": 3,
      "outputs": []
    },
    {
      "cell_type": "markdown",
      "metadata": {
        "id": "kodY59Vz_cn2"
      },
      "source": [
        "Split the labeled data into a training set and a validation set, you can modify the variable `VAL_RATIO` to change the ratio of validation data."
      ]
    },
    {
      "cell_type": "code",
      "metadata": {
        "colab": {
          "base_uri": "https://localhost:8080/"
        },
        "id": "A7gaUSTr_off",
        "outputId": "e8ae8c19-63f1-482a-9807-b4b6538c1f21"
      },
      "source": [
        "VAL_RATIO = 0\n",
        "\n",
        "percent = int(train.shape[0]*(1-VAL_RATIO))\n",
        "print(percent)\n",
        "# train_x,train_y,val_x,val_y = train[:percent], train_label[:percent], train[percent:], train_label[percent:]\n",
        "train_x,train_y = train[:percent], train_label[:percent]\n",
        "indices = [i for i in range(len(train)) if i % 10 == 0]\n",
        "val_x,val_y = train[indices], train_label[indices]\n",
        "print('Size of train_x set: {}'.format(train_x.shape))\n",
        "print('Size of train_y set: {}'.format(train_y.shape))\n",
        "print('Size of val_x set: {}'.format(val_x.shape))\n",
        "print('Size of val_y set: {}'.format(val_y.shape))"
      ],
      "execution_count": 4,
      "outputs": [
        {
          "output_type": "stream",
          "name": "stdout",
          "text": [
            "1229932\n",
            "Size of train_x set: (1229932, 429)\n",
            "Size of train_y set: (1229932,)\n",
            "Size of val_x set: (122994, 429)\n",
            "Size of val_y set: (122994,)\n"
          ]
        }
      ]
    },
    {
      "cell_type": "markdown",
      "metadata": {
        "id": "V8YhhImE-UZa"
      },
      "source": [
        "Create a data loader from the dataset, feel free to tweak the variable `BATCH_SIZE` here."
      ]
    },
    {
      "cell_type": "code",
      "metadata": {
        "id": "nnkOAgAt-Xz5"
      },
      "source": [
        "BATCH_SIZE = 200\n",
        "\n",
        "from torch.utils.data import DataLoader\n",
        "\n",
        "train_set = TIMIDataset(train_x,train_y)\n",
        "val_set =TIMIDataset(val_x,val_y)\n",
        "train_loader = DataLoader(train_set,batch_size=BATCH_SIZE,shuffle=True) #only shuffle the training data\n",
        "val_loader = DataLoader(val_set,batch_size=BATCH_SIZE,shuffle=False)"
      ],
      "execution_count": 5,
      "outputs": []
    },
    {
      "cell_type": "code",
      "metadata": {
        "colab": {
          "base_uri": "https://localhost:8080/"
        },
        "id": "Lvuy2H0dj9jz",
        "outputId": "0f0b78c9-9dd2-4d21-eafa-91ca923b45e2"
      },
      "source": [
        "print(len(train_loader))    # train_set/batch_size 长度为batch的个数"
      ],
      "execution_count": 6,
      "outputs": [
        {
          "output_type": "stream",
          "name": "stdout",
          "text": [
            "6150\n"
          ]
        }
      ]
    },
    {
      "cell_type": "markdown",
      "metadata": {
        "id": "DOUaSIvYL0xk"
      },
      "source": [
        "Cleanup the unneeded variables to save memory.<br>\n",
        "\n",
        "**notes: if you need to use these variables later, then you may remove this block or clean up unneeded variables later<br>the data size is quite huge, so be aware of memory usage in colab**"
      ]
    },
    {
      "cell_type": "code",
      "metadata": {
        "colab": {
          "base_uri": "https://localhost:8080/"
        },
        "id": "f4_iR2vJLwSa",
        "outputId": "2f7d54ff-367a-4c99-ca73-9df6a30ed71e"
      },
      "source": [
        "import gc       # Garbage Collector interface\n",
        "\n",
        "del train, train_label, train_x, train_y, val_x, val_y\n",
        "gc.collect()"
      ],
      "execution_count": 7,
      "outputs": [
        {
          "output_type": "execute_result",
          "data": {
            "text/plain": [
              "0"
            ]
          },
          "metadata": {},
          "execution_count": 7
        }
      ]
    },
    {
      "cell_type": "markdown",
      "metadata": {
        "id": "wscezqCgPNr4"
      },
      "source": [
        "## Create Model"
      ]
    },
    {
      "cell_type": "markdown",
      "metadata": {
        "id": "we7-v7lJPPxw"
      },
      "source": [
        "Define model architecture, you are encouraged to change and experiment with the model architecture."
      ]
    },
    {
      "cell_type": "code",
      "metadata": {
        "id": "FO-OWj_JPQ0s"
      },
      "source": [
        "# 每次输入batch的一个x(1*429)，得到一个y(1*39)\n",
        "import torch\n",
        "import torch.nn as nn\n",
        "\n",
        "class Classfier(nn.Module):\n",
        "    def __init__(self):\n",
        "        super(Classfier,self).__init__()\n",
        "        self.net = nn.Sequential(\n",
        "                nn.BatchNorm1d(429),\n",
        "                nn.Dropout(p=0.1),\n",
        "                nn.Linear(429, 2048),    # Fully connected network\n",
        "                nn.Sigmoid(),\n",
        "                nn.BatchNorm1d(2048),         # Batch Normalization(0,1): Accelerating Deep Network Training by Reducing Internal Covariate Shift .\n",
        "                nn.Dropout(p = 0.5),         # During training, randomly zeroes some of the elements of the input tensor with probability p using samples from a Bernoulli distribution 减少过拟合\n",
        "                #nn.LeakyReLU(),                 # relu activation\n",
        "                nn.Linear(2048, 1024),\n",
        "                nn.Sigmoid(),\n",
        "                nn.BatchNorm1d(1024),         \n",
        "                nn.Dropout(p = 0.5),         \n",
        "                #nn.LeakyReLU(),\n",
        "                nn.Linear(1024,512),\n",
        "                nn.Sigmoid(),\n",
        "                nn.BatchNorm1d(512),       \n",
        "                nn.Dropout(p = 0.5),\n",
        "                #nn.LeakyReLU(),\n",
        "                nn.Linear(512,128),\n",
        "                nn.BatchNorm1d(128),\n",
        "                nn.Dropout(p = 0.5),      \n",
        "                nn.Linear(128,39)     \n",
        "            )\n",
        "        self.criterion = nn.CrossEntropyLoss()   # This criterion combines LogSoftmax and NLLLoss in one single class.\n",
        "        # softmax-->output(只需包含类别)-->crossentropyloss\n",
        "        # 1轴最大值的下标即类别\n",
        "        # self.layer1 = nn.Linear(429,1024)\n",
        "        # self.layer2 = nn.Linear(1024,512)\n",
        "        # self.layer3 = nn.Linear(512,128)\n",
        "        # self.BatchNorm = nn.BatchNorm1d(32),         # Batch Normalization(0,1): Accelerating Deep Network Training by Reducing Internal Covariate Shift .\n",
        "        # self.Dropout = nn.Dropout(p = 0.2),         # During training, randomly zeroes some of the elements of the input tensor with probability p using samples from a Bernoulli distribution 减少过拟合\n",
        "        # self.act_fn = nn.LeakyReLU()                 # relu activation\n",
        "        # self.out = nn.linear(128,49)\n",
        "        # self.act_fn =nn.Sigmoid()\n",
        "\n",
        "    def forward(self,x):\n",
        "        # x = self.layer1(x)\n",
        "        # x = self.act_fn(x)\n",
        "\n",
        "        # x = self.layer2(x)\n",
        "        # x = self.act_fn(x)\n",
        "\n",
        "        # x = self.layer3(x)\n",
        "        # x = self.act_fn(x)\n",
        "\n",
        "        # x = self.out(x)\n",
        "\n",
        "        # return x\n",
        "        return self.net(x)\n",
        "    def cal_loss(self, outputs, labels):\n",
        "        '''Calculate loss'''\n",
        "        regularization_loss = 0 # 正则项损失\n",
        "        #for param in model.parameters():\n",
        "            # may implement L1/L2 regularization here\n",
        "            # 使用L2正则项\n",
        "            # regularization_loss += torch.sum(abs(param))\n",
        "            #regularization_loss += torch.sum(param ** 2)\n",
        "        return self.criterion(outputs, labels) + 0.00075 * regularization_loss"
      ],
      "execution_count": 8,
      "outputs": []
    },
    {
      "cell_type": "markdown",
      "metadata": {
        "id": "TRAF_IfxLbxb"
      },
      "source": [
        "## Training"
      ]
    },
    {
      "cell_type": "code",
      "metadata": {
        "id": "ZteYvl3RLf-3"
      },
      "source": [
        "# check  device\n",
        "def get_device():\n",
        "    return 'cuda' if torch.cuda.is_available() else 'cpu'"
      ],
      "execution_count": 9,
      "outputs": []
    },
    {
      "cell_type": "markdown",
      "metadata": {
        "id": "3zvRvBsXMFQ3"
      },
      "source": [
        "Fix random seeds for reproducibility."
      ]
    },
    {
      "cell_type": "code",
      "metadata": {
        "id": "paFm3ooZMEW1"
      },
      "source": [
        "# fix random seed\n",
        "def same_seeds(seed):\n",
        "    torch.manual_seed(seed)\n",
        "    if torch.cuda.is_available():\n",
        "        torch.cuda.manual_seed(seed)\n",
        "        torch.cuda.manual_seed_all(seed)\n",
        "    np.random.seed(seed)\n",
        "    ##确保输入固定时，输出不变\n",
        "    torch.backends.cudnn.benchmark = False\n",
        "    torch.backends.cudnn.deterministic = True"
      ],
      "execution_count": 10,
      "outputs": []
    },
    {
      "cell_type": "markdown",
      "metadata": {
        "id": "0s5k5l-tOCaw"
      },
      "source": [
        "Feel free to change the training parameters here."
      ]
    },
    {
      "cell_type": "code",
      "metadata": {
        "colab": {
          "base_uri": "https://localhost:8080/"
        },
        "id": "a-mRQzYeOEM-",
        "outputId": "f398d30c-cf29-4550-b10e-2ae845fa8d84"
      },
      "source": [
        "# fix random seed for reproducibility\n",
        "same_seeds(0)\n",
        "\n",
        "# get device\n",
        "device = get_device()\n",
        "print(f'DEVICE: {device}')\n",
        "\n",
        "# training parameters\n",
        "num_epoch = 100           # number of training epoch\n",
        "learning_rate = 0.0001      # learning rate\n",
        "\n",
        "# the path where checkpoint saved\n",
        "model_path = './model.ckpt'\n",
        "\n",
        "# create model, define a loss function, and optimizer\n",
        "model = Classfier().to(device)\n",
        "# criterion = nn.CrossEntropyLoss()   # This criterion combines LogSoftmax and NLLLoss in one single class.\n",
        "# softmax-->output(只需包含类别)-->crossentropyloss\n",
        "# 1轴最大值的下标即类别\n",
        "optimizer = torch.optim.Adam(model.parameters(),lr = learning_rate) # default hyperpapras"
      ],
      "execution_count": 11,
      "outputs": [
        {
          "output_type": "stream",
          "name": "stdout",
          "text": [
            "DEVICE: cuda\n"
          ]
        }
      ]
    },
    {
      "cell_type": "code",
      "metadata": {
        "colab": {
          "base_uri": "https://localhost:8080/"
        },
        "id": "bKcNDtOm1-NN",
        "outputId": "3af814af-32eb-4960-f640-d693672f5c97"
      },
      "source": [
        "import torch.nn as nn\n",
        "loss = nn.CrossEntropyLoss()\n",
        "input = torch.randn(1,2, requires_grad=True)\n",
        "print(input)\n",
        "target = torch.empty(1, dtype=torch.long).random_(2)\n",
        "print(target)\n",
        "output = loss(input, target)\n",
        "print(output)\n",
        "output.backward()"
      ],
      "execution_count": 12,
      "outputs": [
        {
          "output_type": "stream",
          "name": "stdout",
          "text": [
            "tensor([[-1.8211, -0.7661]], requires_grad=True)\n",
            "tensor([0])\n",
            "tensor(1.3537, grad_fn=<NllLossBackward>)\n"
          ]
        }
      ]
    },
    {
      "cell_type": "code",
      "metadata": {
        "id": "YIPhKjkfdqFj",
        "colab": {
          "base_uri": "https://localhost:8080/"
        },
        "outputId": "9b2a314e-961b-4fd8-f5c9-29edadaba003"
      },
      "source": [
        "# start training\n",
        "# 1.Under one epoch, each batch was trained once and recorded batch_loss and pred acc_sum. \n",
        "# 2.After the end of one epoch, loss and pred acc_sum were obtained from val_set \n",
        "# 3.the cycle(epoches) continued until the end\n",
        "\n",
        "best_acc = 0.0\n",
        "for epoch in range(num_epoch):\n",
        "    train_acc = 0.0\n",
        "    train_loss = 0.0\n",
        "    val_acc = 0.0\n",
        "    val_loss = 0.0\n",
        "    #training\n",
        "    model.train()\n",
        "    # yield n(from start which defaults to 0), elem\n",
        "    for i, data in enumerate(train_loader):\n",
        "        inputs,labels = data\n",
        "        inputs,labels = inputs.to(device), labels.to(device)\n",
        "        optimizer.zero_grad()\n",
        "        outputs = model(inputs)\n",
        "        batch_loss = model.cal_loss(outputs,labels)\n",
        "        # torch.max() return max, index\n",
        "        _, train_pred = torch.max(outputs, 1) # get the index of the class with the highest probability\n",
        "        batch_loss.backward()\n",
        "        optimizer.step()\n",
        "\n",
        "        # item(): Returns the value of this tensor as a standard Python number.\n",
        "        # classfication: labels 0-38\n",
        "        # output 39 dimension(占比最大的下标为类别)， 求出与相等labels的个数(sum): 一个batch的pre准确个数\n",
        "        # labels Decide in advance which category\n",
        "        train_acc += (train_pred.cpu()==labels.cpu()).sum().item()\n",
        "        train_loss += batch_loss.item()\n",
        "    #训练完一个epoch validation一次\n",
        "    if len(val_set)>0:\n",
        "        model.eval()\n",
        "        with torch.no_grad():\n",
        "            for i,data in enumerate(val_loader):\n",
        "                inputs, labels = data\n",
        "                # 计算的时候在device上，记录/保存转到cpu（）\n",
        "                inputs, labels = inputs.to(device), labels.to(device)\n",
        "                outputs = model(inputs)\n",
        "                batch_loss = model.cal_loss(outputs, labels) \n",
        "                _, val_pred = torch.max(outputs, 1)\n",
        "\n",
        "                val_acc += (val_pred.cpu() == labels.cpu()).sum().item() # get the index of the class with the highest probability\n",
        "                val_loss += batch_loss.item()\n",
        "            # train_loss/len(train_loader): sum of batch_loss/sum of batch\n",
        "            print(\"[{:03d}/{:03d}] Train Acc: {:3.6f} Loss: {:3.6f} Val Acc: {:3.6f} Loss: {:3.6f}\".format(\n",
        "                epoch+1,num_epoch,train_acc/len(train_set),train_loss/len(train_loader),val_acc/len(val_set),val_loss/len(val_loader)\n",
        "                ) )\n",
        "            \n",
        "            # if the model improves, save a checkpoint at this epoch\n",
        "            if val_acc > best_acc:\n",
        "                best_acc = val_acc\n",
        "                torch.save(model.state_dict(), model_path)\n",
        "                print('saving model with acc {:.3f}'.format(best_acc/len(val_set)))\n",
        "    else:\n",
        "        print('[{:03d}/{:03d}] Train Acc: {:3.6f} Loss: {:3.6f}'.format(\n",
        "            epoch + 1, num_epoch, train_acc/len(train_set), train_loss/len(train_loader)\n",
        "        ))\n",
        "# if not validating, save the last epoch\n",
        "if len(val_set) == 0:\n",
        "    torch.save(model.state_dict(), model_path)\n",
        "    print('saving model at last epoch')"
      ],
      "execution_count": 13,
      "outputs": [
        {
          "output_type": "stream",
          "name": "stdout",
          "text": [
            "[001/100] Train Acc: 0.461342 Loss: 1.866443 Val Acc: 0.571890 Loss: 1.420421\n",
            "saving model with acc 0.572\n",
            "[002/100] Train Acc: 0.530540 Loss: 1.582002 Val Acc: 0.613843 Loss: 1.259169\n",
            "saving model with acc 0.614\n",
            "[003/100] Train Acc: 0.557137 Loss: 1.480450 Val Acc: 0.637747 Loss: 1.172284\n",
            "saving model with acc 0.638\n",
            "[004/100] Train Acc: 0.574459 Loss: 1.416077 Val Acc: 0.652715 Loss: 1.112471\n",
            "saving model with acc 0.653\n",
            "[005/100] Train Acc: 0.587715 Loss: 1.366060 Val Acc: 0.666553 Loss: 1.065708\n",
            "saving model with acc 0.667\n",
            "[006/100] Train Acc: 0.598911 Loss: 1.327408 Val Acc: 0.675561 Loss: 1.030471\n",
            "saving model with acc 0.676\n",
            "[007/100] Train Acc: 0.607966 Loss: 1.293344 Val Acc: 0.682936 Loss: 1.000476\n",
            "saving model with acc 0.683\n",
            "[008/100] Train Acc: 0.616614 Loss: 1.262947 Val Acc: 0.691595 Loss: 0.971247\n",
            "saving model with acc 0.692\n",
            "[009/100] Train Acc: 0.623072 Loss: 1.237645 Val Acc: 0.700278 Loss: 0.946420\n",
            "saving model with acc 0.700\n",
            "[010/100] Train Acc: 0.629871 Loss: 1.215933 Val Acc: 0.705725 Loss: 0.923820\n",
            "saving model with acc 0.706\n",
            "[011/100] Train Acc: 0.636228 Loss: 1.194759 Val Acc: 0.711197 Loss: 0.905362\n",
            "saving model with acc 0.711\n",
            "[012/100] Train Acc: 0.641311 Loss: 1.176346 Val Acc: 0.716084 Loss: 0.886461\n",
            "saving model with acc 0.716\n",
            "[013/100] Train Acc: 0.645622 Loss: 1.160387 Val Acc: 0.720401 Loss: 0.873950\n",
            "saving model with acc 0.720\n",
            "[014/100] Train Acc: 0.649856 Loss: 1.144340 Val Acc: 0.724149 Loss: 0.858085\n",
            "saving model with acc 0.724\n",
            "[015/100] Train Acc: 0.653512 Loss: 1.133328 Val Acc: 0.728897 Loss: 0.843123\n",
            "saving model with acc 0.729\n",
            "[016/100] Train Acc: 0.656714 Loss: 1.120431 Val Acc: 0.732670 Loss: 0.831137\n",
            "saving model with acc 0.733\n",
            "[017/100] Train Acc: 0.659722 Loss: 1.109671 Val Acc: 0.734564 Loss: 0.822936\n",
            "saving model with acc 0.735\n",
            "[018/100] Train Acc: 0.662899 Loss: 1.099047 Val Acc: 0.736564 Loss: 0.813691\n",
            "saving model with acc 0.737\n",
            "[019/100] Train Acc: 0.664649 Loss: 1.092059 Val Acc: 0.741093 Loss: 0.801868\n",
            "saving model with acc 0.741\n",
            "[020/100] Train Acc: 0.667260 Loss: 1.083485 Val Acc: 0.743939 Loss: 0.792311\n",
            "saving model with acc 0.744\n",
            "[021/100] Train Acc: 0.668896 Loss: 1.076423 Val Acc: 0.745175 Loss: 0.786948\n",
            "saving model with acc 0.745\n",
            "[022/100] Train Acc: 0.670830 Loss: 1.069368 Val Acc: 0.748622 Loss: 0.778471\n",
            "saving model with acc 0.749\n",
            "[023/100] Train Acc: 0.673214 Loss: 1.061368 Val Acc: 0.749028 Loss: 0.772440\n",
            "saving model with acc 0.749\n",
            "[024/100] Train Acc: 0.674461 Loss: 1.057273 Val Acc: 0.753305 Loss: 0.761396\n",
            "saving model with acc 0.753\n",
            "[025/100] Train Acc: 0.676479 Loss: 1.050641 Val Acc: 0.753622 Loss: 0.758605\n",
            "saving model with acc 0.754\n",
            "[026/100] Train Acc: 0.677294 Loss: 1.047104 Val Acc: 0.756476 Loss: 0.750971\n",
            "saving model with acc 0.756\n",
            "[027/100] Train Acc: 0.678746 Loss: 1.041504 Val Acc: 0.756281 Loss: 0.749176\n",
            "[028/100] Train Acc: 0.679906 Loss: 1.037088 Val Acc: 0.759281 Loss: 0.740749\n",
            "saving model with acc 0.759\n",
            "[029/100] Train Acc: 0.681421 Loss: 1.031114 Val Acc: 0.760866 Loss: 0.735015\n",
            "saving model with acc 0.761\n",
            "[030/100] Train Acc: 0.682813 Loss: 1.027846 Val Acc: 0.761728 Loss: 0.729443\n",
            "saving model with acc 0.762\n",
            "[031/100] Train Acc: 0.683452 Loss: 1.025000 Val Acc: 0.764484 Loss: 0.726184\n",
            "saving model with acc 0.764\n",
            "[032/100] Train Acc: 0.685009 Loss: 1.019857 Val Acc: 0.765208 Loss: 0.719130\n",
            "saving model with acc 0.765\n",
            "[033/100] Train Acc: 0.685274 Loss: 1.018078 Val Acc: 0.766745 Loss: 0.717060\n",
            "saving model with acc 0.767\n",
            "[034/100] Train Acc: 0.686135 Loss: 1.014674 Val Acc: 0.767265 Loss: 0.715643\n",
            "saving model with acc 0.767\n",
            "[035/100] Train Acc: 0.687566 Loss: 1.010109 Val Acc: 0.769168 Loss: 0.708259\n",
            "saving model with acc 0.769\n",
            "[036/100] Train Acc: 0.688401 Loss: 1.007780 Val Acc: 0.769013 Loss: 0.707123\n",
            "[037/100] Train Acc: 0.689396 Loss: 1.004296 Val Acc: 0.770184 Loss: 0.703067\n",
            "saving model with acc 0.770\n",
            "[038/100] Train Acc: 0.689658 Loss: 1.002251 Val Acc: 0.771290 Loss: 0.699450\n",
            "saving model with acc 0.771\n",
            "[039/100] Train Acc: 0.690735 Loss: 0.999722 Val Acc: 0.772143 Loss: 0.695026\n",
            "saving model with acc 0.772\n",
            "[040/100] Train Acc: 0.691149 Loss: 0.996987 Val Acc: 0.772794 Loss: 0.693497\n",
            "saving model with acc 0.773\n",
            "[041/100] Train Acc: 0.691872 Loss: 0.994306 Val Acc: 0.773355 Loss: 0.691717\n",
            "saving model with acc 0.773\n",
            "[042/100] Train Acc: 0.692742 Loss: 0.991942 Val Acc: 0.775005 Loss: 0.687867\n",
            "saving model with acc 0.775\n",
            "[043/100] Train Acc: 0.693059 Loss: 0.990894 Val Acc: 0.774550 Loss: 0.685544\n",
            "[044/100] Train Acc: 0.694199 Loss: 0.988051 Val Acc: 0.776786 Loss: 0.682157\n",
            "saving model with acc 0.777\n",
            "[045/100] Train Acc: 0.694310 Loss: 0.986757 Val Acc: 0.777558 Loss: 0.679918\n",
            "saving model with acc 0.778\n",
            "[046/100] Train Acc: 0.695579 Loss: 0.982221 Val Acc: 0.778225 Loss: 0.675576\n",
            "saving model with acc 0.778\n",
            "[047/100] Train Acc: 0.695364 Loss: 0.981169 Val Acc: 0.778656 Loss: 0.675081\n",
            "saving model with acc 0.779\n",
            "[048/100] Train Acc: 0.695621 Loss: 0.979954 Val Acc: 0.780038 Loss: 0.671729\n",
            "saving model with acc 0.780\n",
            "[049/100] Train Acc: 0.696517 Loss: 0.978228 Val Acc: 0.779851 Loss: 0.671107\n",
            "[050/100] Train Acc: 0.696611 Loss: 0.977247 Val Acc: 0.780266 Loss: 0.669294\n",
            "saving model with acc 0.780\n",
            "[051/100] Train Acc: 0.697053 Loss: 0.974970 Val Acc: 0.782201 Loss: 0.664980\n",
            "saving model with acc 0.782\n",
            "[052/100] Train Acc: 0.697630 Loss: 0.972615 Val Acc: 0.782754 Loss: 0.661215\n",
            "saving model with acc 0.783\n",
            "[053/100] Train Acc: 0.698080 Loss: 0.972320 Val Acc: 0.783298 Loss: 0.660727\n",
            "saving model with acc 0.783\n",
            "[054/100] Train Acc: 0.698923 Loss: 0.970055 Val Acc: 0.784559 Loss: 0.656797\n",
            "saving model with acc 0.785\n",
            "[055/100] Train Acc: 0.698566 Loss: 0.969250 Val Acc: 0.783339 Loss: 0.659331\n",
            "[056/100] Train Acc: 0.699483 Loss: 0.967296 Val Acc: 0.784485 Loss: 0.655262\n",
            "[057/100] Train Acc: 0.700233 Loss: 0.965367 Val Acc: 0.785242 Loss: 0.657835\n",
            "saving model with acc 0.785\n",
            "[058/100] Train Acc: 0.700074 Loss: 0.965161 Val Acc: 0.786250 Loss: 0.650995\n",
            "saving model with acc 0.786\n",
            "[059/100] Train Acc: 0.700864 Loss: 0.962722 Val Acc: 0.786160 Loss: 0.650134\n",
            "[060/100] Train Acc: 0.701365 Loss: 0.960462 Val Acc: 0.785567 Loss: 0.648753\n",
            "[061/100] Train Acc: 0.701497 Loss: 0.960009 Val Acc: 0.788014 Loss: 0.643676\n",
            "saving model with acc 0.788\n",
            "[062/100] Train Acc: 0.702299 Loss: 0.958433 Val Acc: 0.788144 Loss: 0.643839\n",
            "saving model with acc 0.788\n",
            "[063/100] Train Acc: 0.702414 Loss: 0.958092 Val Acc: 0.788055 Loss: 0.642932\n",
            "[064/100] Train Acc: 0.702606 Loss: 0.957148 Val Acc: 0.788713 Loss: 0.640853\n",
            "saving model with acc 0.789\n",
            "[065/100] Train Acc: 0.702258 Loss: 0.955703 Val Acc: 0.789478 Loss: 0.638384\n",
            "saving model with acc 0.789\n",
            "[066/100] Train Acc: 0.702737 Loss: 0.955080 Val Acc: 0.790778 Loss: 0.635835\n",
            "saving model with acc 0.791\n",
            "[067/100] Train Acc: 0.703092 Loss: 0.954142 Val Acc: 0.790453 Loss: 0.635573\n",
            "[068/100] Train Acc: 0.703845 Loss: 0.951798 Val Acc: 0.790559 Loss: 0.634170\n",
            "[069/100] Train Acc: 0.703806 Loss: 0.951912 Val Acc: 0.791583 Loss: 0.632914\n",
            "saving model with acc 0.792\n",
            "[070/100] Train Acc: 0.704019 Loss: 0.950392 Val Acc: 0.791396 Loss: 0.630513\n",
            "[071/100] Train Acc: 0.704165 Loss: 0.949394 Val Acc: 0.792283 Loss: 0.630804\n",
            "saving model with acc 0.792\n",
            "[072/100] Train Acc: 0.704873 Loss: 0.948501 Val Acc: 0.792315 Loss: 0.627793\n",
            "saving model with acc 0.792\n",
            "[073/100] Train Acc: 0.704769 Loss: 0.947841 Val Acc: 0.793364 Loss: 0.627277\n",
            "saving model with acc 0.793\n",
            "[074/100] Train Acc: 0.705352 Loss: 0.946786 Val Acc: 0.792201 Loss: 0.628184\n",
            "[075/100] Train Acc: 0.704988 Loss: 0.946996 Val Acc: 0.793697 Loss: 0.625840\n",
            "saving model with acc 0.794\n",
            "[076/100] Train Acc: 0.705848 Loss: 0.944552 Val Acc: 0.794453 Loss: 0.624710\n",
            "saving model with acc 0.794\n",
            "[077/100] Train Acc: 0.706158 Loss: 0.943692 Val Acc: 0.794104 Loss: 0.622859\n",
            "[078/100] Train Acc: 0.706317 Loss: 0.942994 Val Acc: 0.793966 Loss: 0.624378\n",
            "[079/100] Train Acc: 0.706919 Loss: 0.941556 Val Acc: 0.794730 Loss: 0.621504\n",
            "saving model with acc 0.795\n",
            "[080/100] Train Acc: 0.706858 Loss: 0.941089 Val Acc: 0.794998 Loss: 0.620474\n",
            "saving model with acc 0.795\n",
            "[081/100] Train Acc: 0.706448 Loss: 0.941020 Val Acc: 0.795169 Loss: 0.620053\n",
            "saving model with acc 0.795\n",
            "[082/100] Train Acc: 0.707321 Loss: 0.938674 Val Acc: 0.795730 Loss: 0.619374\n",
            "saving model with acc 0.796\n",
            "[083/100] Train Acc: 0.707328 Loss: 0.938781 Val Acc: 0.796649 Loss: 0.615447\n",
            "saving model with acc 0.797\n",
            "[084/100] Train Acc: 0.707347 Loss: 0.938255 Val Acc: 0.797462 Loss: 0.615840\n",
            "saving model with acc 0.797\n",
            "[085/100] Train Acc: 0.707276 Loss: 0.937126 Val Acc: 0.796673 Loss: 0.614765\n",
            "[086/100] Train Acc: 0.708071 Loss: 0.936378 Val Acc: 0.796494 Loss: 0.613915\n",
            "[087/100] Train Acc: 0.708577 Loss: 0.935134 Val Acc: 0.797023 Loss: 0.615139\n",
            "[088/100] Train Acc: 0.708786 Loss: 0.934787 Val Acc: 0.796584 Loss: 0.613578\n",
            "[089/100] Train Acc: 0.708553 Loss: 0.934479 Val Acc: 0.798307 Loss: 0.609729\n",
            "saving model with acc 0.798\n",
            "[090/100] Train Acc: 0.708760 Loss: 0.934070 Val Acc: 0.799421 Loss: 0.608688\n",
            "saving model with acc 0.799\n",
            "[091/100] Train Acc: 0.708391 Loss: 0.933201 Val Acc: 0.799250 Loss: 0.608426\n",
            "[092/100] Train Acc: 0.709068 Loss: 0.934039 Val Acc: 0.798267 Loss: 0.608578\n",
            "[093/100] Train Acc: 0.709292 Loss: 0.932318 Val Acc: 0.799454 Loss: 0.606844\n",
            "saving model with acc 0.799\n",
            "[094/100] Train Acc: 0.709552 Loss: 0.930255 Val Acc: 0.800202 Loss: 0.604778\n",
            "saving model with acc 0.800\n",
            "[095/100] Train Acc: 0.710082 Loss: 0.929857 Val Acc: 0.800470 Loss: 0.606126\n",
            "saving model with acc 0.800\n",
            "[096/100] Train Acc: 0.709882 Loss: 0.928946 Val Acc: 0.800885 Loss: 0.603467\n",
            "saving model with acc 0.801\n",
            "[097/100] Train Acc: 0.709755 Loss: 0.930400 Val Acc: 0.801194 Loss: 0.602664\n",
            "saving model with acc 0.801\n",
            "[098/100] Train Acc: 0.710564 Loss: 0.928276 Val Acc: 0.800714 Loss: 0.601953\n",
            "[099/100] Train Acc: 0.710290 Loss: 0.928012 Val Acc: 0.800828 Loss: 0.602620\n",
            "[100/100] Train Acc: 0.710906 Loss: 0.926617 Val Acc: 0.801478 Loss: 0.600817\n",
            "saving model with acc 0.801\n"
          ]
        }
      ]
    },
    {
      "cell_type": "code",
      "metadata": {
        "id": "iL0s75KQh0nq",
        "colab": {
          "base_uri": "https://localhost:8080/"
        },
        "outputId": "51f317f4-0880-4126-8288-de01c8c0b25e"
      },
      "source": [
        "a = torch.randn(4,5)\n",
        "print(a)\n",
        "a, b =torch.max(a,1)\n",
        "c = torch.randn(4,5)\n",
        "_, i = torch.max(c, 1)\n",
        "# print(a)\n",
        "# print(b)\n",
        "print((b==i).sum().item())"
      ],
      "execution_count": 18,
      "outputs": [
        {
          "output_type": "stream",
          "name": "stdout",
          "text": [
            "tensor([[-0.5602, -1.2086, -0.5289,  0.8673, -0.9513],\n",
            "        [-0.0882,  0.6169,  0.7564,  0.7262, -0.3078],\n",
            "        [-1.8331, -0.8385, -2.4585,  1.0640, -0.3778],\n",
            "        [-2.6254,  0.7161, -0.9207, -0.3473, -1.7305]])\n",
            "1\n"
          ]
        }
      ]
    },
    {
      "cell_type": "markdown",
      "metadata": {
        "id": "hp-Vo-wfN9Jm"
      },
      "source": [
        "## Testing"
      ]
    },
    {
      "cell_type": "code",
      "metadata": {
        "id": "2TlQUkFnOCJw",
        "colab": {
          "base_uri": "https://localhost:8080/"
        },
        "outputId": "61b05124-a468-47d9-a3c6-37bb26fbe809"
      },
      "source": [
        "# create testing dataset\n",
        "test_set = TIMIDataset(test, None)\n",
        "test_loader = DataLoader(test_set,batch_size=BATCH_SIZE,shuffle=False)\n",
        "\n",
        "# create model and load weights from checkpoint\n",
        "model = Classfier().to(device)\n",
        "model.load_state_dict(torch.load(model_path))"
      ],
      "execution_count": 19,
      "outputs": [
        {
          "output_type": "execute_result",
          "data": {
            "text/plain": [
              "<All keys matched successfully>"
            ]
          },
          "metadata": {},
          "execution_count": 19
        }
      ]
    },
    {
      "cell_type": "markdown",
      "metadata": {
        "id": "flDKoe6FPTfD"
      },
      "source": [
        "Make prediction."
      ]
    },
    {
      "cell_type": "code",
      "metadata": {
        "id": "VSyrXrhNPUUn"
      },
      "source": [
        "predict = []\n",
        "model.eval()\n",
        "with torch.no_grad():\n",
        "    for i, data in enumerate(test_loader):\n",
        "        inputs = data\n",
        "        inputs = inputs.to(device)\n",
        "        outputs = model(inputs)\n",
        "        _, test_pred = torch.max(outputs, 1)    # get the index of the class with the highest probability\n",
        "\n",
        "        for y in test_pred.cpu().numpy():   # 先转化为numpy tuple\n",
        "            predict.append(y)"
      ],
      "execution_count": 20,
      "outputs": []
    },
    {
      "cell_type": "markdown",
      "metadata": {
        "id": "6csPMZRhQigj"
      },
      "source": [
        "Write prediction to a CSV file.\n"
      ]
    },
    {
      "cell_type": "code",
      "metadata": {
        "id": "66dC_pDTQjA-"
      },
      "source": [
        "with open('prediction.csv', 'w') as f:\n",
        "    f.write('ID,Class\\n')\n",
        "    for i, y in enumerate(predict):\n",
        "        f.write('{},{}\\n'.format(i, y))"
      ],
      "execution_count": 21,
      "outputs": []
    }
  ]
}
